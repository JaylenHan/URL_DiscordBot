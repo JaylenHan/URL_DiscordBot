{
  "cells": [
    {
      "cell_type": "code",
      "execution_count": 1,
      "metadata": {
        "colab": {
          "base_uri": "https://localhost:8080/"
        },
        "id": "VJyeysev0jng",
        "outputId": "b3af71aa-2061-40f2-dac7-2e07edc9fc38"
      },
      "outputs": [
        {
          "output_type": "stream",
          "name": "stdout",
          "text": [
            "Collecting tld\n",
            "  Downloading tld-0.13-py2.py3-none-any.whl (263 kB)\n",
            "\u001b[?25l     \u001b[90m━━━━━━━━━━━━━━━━━━━━━━━━━━━━━━━━━━━━━━━━\u001b[0m \u001b[32m0.0/263.8 kB\u001b[0m \u001b[31m?\u001b[0m eta \u001b[36m-:--:--\u001b[0m\r\u001b[2K     \u001b[91m━━━━━━━━━━━━━━━━━━━━━━━━━━━━━━━━━━━━━\u001b[0m\u001b[91m╸\u001b[0m\u001b[90m━\u001b[0m \u001b[32m256.0/263.8 kB\u001b[0m \u001b[31m8.1 MB/s\u001b[0m eta \u001b[36m0:00:01\u001b[0m\r\u001b[2K     \u001b[90m━━━━━━━━━━━━━━━━━━━━━━━━━━━━━━━━━━━━━━━\u001b[0m \u001b[32m263.8/263.8 kB\u001b[0m \u001b[31m6.3 MB/s\u001b[0m eta \u001b[36m0:00:00\u001b[0m\n",
            "\u001b[?25hInstalling collected packages: tld\n",
            "Successfully installed tld-0.13\n"
          ]
        }
      ],
      "source": [
        "!pip install tld"
      ]
    },
    {
      "cell_type": "code",
      "execution_count": 2,
      "metadata": {
        "colab": {
          "base_uri": "https://localhost:8080/"
        },
        "id": "f-260Ti60511",
        "outputId": "3f2098c2-aa80-420d-bd52-013ff5ba8649"
      },
      "outputs": [
        {
          "output_type": "stream",
          "name": "stdout",
          "text": [
            "Requirement already satisfied: tqdm in /usr/local/lib/python3.10/dist-packages (4.66.1)\n"
          ]
        }
      ],
      "source": [
        "!pip install tqdm"
      ]
    },
    {
      "cell_type": "code",
      "execution_count": 3,
      "metadata": {
        "colab": {
          "base_uri": "https://localhost:8080/"
        },
        "id": "oHtzdw3305yV",
        "outputId": "20b0a3d3-208c-4f80-b01d-a93fab136935"
      },
      "outputs": [
        {
          "output_type": "stream",
          "name": "stdout",
          "text": [
            "Collecting tldextract\n",
            "  Downloading tldextract-3.6.0-py3-none-any.whl (97 kB)\n",
            "\u001b[?25l     \u001b[90m━━━━━━━━━━━━━━━━━━━━━━━━━━━━━━━━━━━━━━━━\u001b[0m \u001b[32m0.0/97.4 kB\u001b[0m \u001b[31m?\u001b[0m eta \u001b[36m-:--:--\u001b[0m\r\u001b[2K     \u001b[90m━━━━━━━━━━━━━━━━━━━━━━━━━━━━━━━━━━━━━━━━\u001b[0m \u001b[32m97.4/97.4 kB\u001b[0m \u001b[31m3.1 MB/s\u001b[0m eta \u001b[36m0:00:00\u001b[0m\n",
            "\u001b[?25hRequirement already satisfied: idna in /usr/local/lib/python3.10/dist-packages (from tldextract) (3.4)\n",
            "Requirement already satisfied: requests>=2.1.0 in /usr/local/lib/python3.10/dist-packages (from tldextract) (2.31.0)\n",
            "Collecting requests-file>=1.4 (from tldextract)\n",
            "  Downloading requests_file-1.5.1-py2.py3-none-any.whl (3.7 kB)\n",
            "Requirement already satisfied: filelock>=3.0.8 in /usr/local/lib/python3.10/dist-packages (from tldextract) (3.12.2)\n",
            "Requirement already satisfied: charset-normalizer<4,>=2 in /usr/local/lib/python3.10/dist-packages (from requests>=2.1.0->tldextract) (3.2.0)\n",
            "Requirement already satisfied: urllib3<3,>=1.21.1 in /usr/local/lib/python3.10/dist-packages (from requests>=2.1.0->tldextract) (2.0.4)\n",
            "Requirement already satisfied: certifi>=2017.4.17 in /usr/local/lib/python3.10/dist-packages (from requests>=2.1.0->tldextract) (2023.7.22)\n",
            "Requirement already satisfied: six in /usr/local/lib/python3.10/dist-packages (from requests-file>=1.4->tldextract) (1.16.0)\n",
            "Installing collected packages: requests-file, tldextract\n",
            "Successfully installed requests-file-1.5.1 tldextract-3.6.0\n"
          ]
        }
      ],
      "source": [
        "!pip install tldextract"
      ]
    },
    {
      "cell_type": "code",
      "source": [
        "!pip install shap"
      ],
      "metadata": {
        "colab": {
          "base_uri": "https://localhost:8080/"
        },
        "id": "5NXNtkYTmQ6y",
        "outputId": "ad72f29a-649e-4224-b3df-53eb16177829"
      },
      "execution_count": 4,
      "outputs": [
        {
          "output_type": "stream",
          "name": "stdout",
          "text": [
            "Collecting shap\n",
            "  Downloading shap-0.42.1-cp310-cp310-manylinux_2_12_x86_64.manylinux2010_x86_64.manylinux_2_17_x86_64.manylinux2014_x86_64.whl (547 kB)\n",
            "\u001b[?25l     \u001b[90m━━━━━━━━━━━━━━━━━━━━━━━━━━━━━━━━━━━━━━━━\u001b[0m \u001b[32m0.0/547.9 kB\u001b[0m \u001b[31m?\u001b[0m eta \u001b[36m-:--:--\u001b[0m\r\u001b[2K     \u001b[91m━━━━━━━━━━━━━━━━━━\u001b[0m\u001b[90m╺\u001b[0m\u001b[90m━━━━━━━━━━━━━━━━━━━━\u001b[0m \u001b[32m256.0/547.9 kB\u001b[0m \u001b[31m7.4 MB/s\u001b[0m eta \u001b[36m0:00:01\u001b[0m\r\u001b[2K     \u001b[91m━━━━━━━━━━━━━━━━━━━━━━━━━━━━━━━━━━━━━━\u001b[0m\u001b[91m╸\u001b[0m \u001b[32m542.7/547.9 kB\u001b[0m \u001b[31m9.0 MB/s\u001b[0m eta \u001b[36m0:00:01\u001b[0m\r\u001b[2K     \u001b[90m━━━━━━━━━━━━━━━━━━━━━━━━━━━━━━━━━━━━━━━\u001b[0m \u001b[32m547.9/547.9 kB\u001b[0m \u001b[31m7.4 MB/s\u001b[0m eta \u001b[36m0:00:00\u001b[0m\n",
            "\u001b[?25hRequirement already satisfied: numpy in /usr/local/lib/python3.10/dist-packages (from shap) (1.23.5)\n",
            "Requirement already satisfied: scipy in /usr/local/lib/python3.10/dist-packages (from shap) (1.11.2)\n",
            "Requirement already satisfied: scikit-learn in /usr/local/lib/python3.10/dist-packages (from shap) (1.2.2)\n",
            "Requirement already satisfied: pandas in /usr/local/lib/python3.10/dist-packages (from shap) (1.5.3)\n",
            "Requirement already satisfied: tqdm>=4.27.0 in /usr/local/lib/python3.10/dist-packages (from shap) (4.66.1)\n",
            "Requirement already satisfied: packaging>20.9 in /usr/local/lib/python3.10/dist-packages (from shap) (23.1)\n",
            "Collecting slicer==0.0.7 (from shap)\n",
            "  Downloading slicer-0.0.7-py3-none-any.whl (14 kB)\n",
            "Requirement already satisfied: numba in /usr/local/lib/python3.10/dist-packages (from shap) (0.56.4)\n",
            "Requirement already satisfied: cloudpickle in /usr/local/lib/python3.10/dist-packages (from shap) (2.2.1)\n",
            "Requirement already satisfied: llvmlite<0.40,>=0.39.0dev0 in /usr/local/lib/python3.10/dist-packages (from numba->shap) (0.39.1)\n",
            "Requirement already satisfied: setuptools in /usr/local/lib/python3.10/dist-packages (from numba->shap) (67.7.2)\n",
            "Requirement already satisfied: python-dateutil>=2.8.1 in /usr/local/lib/python3.10/dist-packages (from pandas->shap) (2.8.2)\n",
            "Requirement already satisfied: pytz>=2020.1 in /usr/local/lib/python3.10/dist-packages (from pandas->shap) (2023.3.post1)\n",
            "Requirement already satisfied: joblib>=1.1.1 in /usr/local/lib/python3.10/dist-packages (from scikit-learn->shap) (1.3.2)\n",
            "Requirement already satisfied: threadpoolctl>=2.0.0 in /usr/local/lib/python3.10/dist-packages (from scikit-learn->shap) (3.2.0)\n",
            "Requirement already satisfied: six>=1.5 in /usr/local/lib/python3.10/dist-packages (from python-dateutil>=2.8.1->pandas->shap) (1.16.0)\n",
            "Installing collected packages: slicer, shap\n",
            "Successfully installed shap-0.42.1 slicer-0.0.7\n"
          ]
        }
      ]
    },
    {
      "cell_type": "code",
      "execution_count": 5,
      "metadata": {
        "id": "0MTw4H2u05v9",
        "colab": {
          "base_uri": "https://localhost:8080/"
        },
        "outputId": "91b56f8e-c459-44cb-f459-82ac11805730"
      },
      "outputs": [
        {
          "output_type": "stream",
          "name": "stderr",
          "text": [
            "Using `tqdm.autonotebook.tqdm` in notebook mode. Use `tqdm.tqdm` instead to force console mode (e.g. in jupyter console)\n"
          ]
        }
      ],
      "source": [
        "import pandas as pd\n",
        "import numpy as np\n",
        "from google.colab import drive\n",
        "from sklearn import preprocessing\n",
        "from sklearn.svm import SVC\n",
        "import re\n",
        "from urllib.parse import urlparse\n",
        "from tld import get_tld\n",
        "import os.path\n",
        "import matplotlib.pyplot as plt\n",
        "from sklearn.model_selection import train_test_split\n",
        "from sklearn.metrics import accuracy_score, classification_report\n",
        "import tldextract\n",
        "import matplotlib.pyplot as plt\n",
        "import seaborn as sns\n",
        "import shap"
      ]
    },
    {
      "cell_type": "code",
      "execution_count": 6,
      "metadata": {
        "colab": {
          "base_uri": "https://localhost:8080/"
        },
        "id": "TmF8TIil05tz",
        "outputId": "5bbd0668-9f1f-4486-dcf7-543d9cfe4af9"
      },
      "outputs": [
        {
          "output_type": "stream",
          "name": "stdout",
          "text": [
            "Mounted at /content/gdrive\n"
          ]
        }
      ],
      "source": [
        "drive.mount('/content/gdrive')"
      ]
    },
    {
      "cell_type": "code",
      "execution_count": 7,
      "metadata": {
        "id": "0lXXouEn05rl"
      },
      "outputs": [],
      "source": [
        "colab_path = 'gdrive/My Drive/hehe/URURL/통합데이터셋/데이터셋 재분류/'"
      ]
    },
    {
      "cell_type": "code",
      "execution_count": 8,
      "metadata": {
        "id": "UKAxk7m805pY"
      },
      "outputs": [],
      "source": [
        "yong = pd.read_csv(colab_path + 'urldata0920.csv')\n",
        "ka = pd.read_csv(colab_path + 'urldata.csv')"
      ]
    },
    {
      "cell_type": "code",
      "execution_count": 9,
      "metadata": {
        "id": "2EARSo6g05fx"
      },
      "outputs": [],
      "source": [
        "# 10만개\n",
        "colab_path_2 = 'gdrive/My Drive/hehe/URURL/통합데이터셋/'\n",
        "alexa_10k = pd.read_csv(colab_path_2 + 'cloudflare-radar-domains-top-100000-20230821-20230828.csv')"
      ]
    },
    {
      "cell_type": "code",
      "execution_count": 10,
      "metadata": {
        "id": "UACUkJvW13yL"
      },
      "outputs": [],
      "source": [
        "# Feature Engineering Refactoring\n",
        "# 일괄 처리를 위한 함수화\n",
        "def fd_length(parsedpath):\n",
        "  try:\n",
        "    tmp = parsedpath.split('/')[1]\n",
        "  except:\n",
        "    tmp = None\n",
        "  return tmp\n",
        "\n",
        "\n",
        "def feature_extract(urldata):\n",
        "  def parsetest(url):\n",
        "    try:\n",
        "      urlparse(url if url[0:4] =='http' else \"//\" + url)\n",
        "      return True\n",
        "    except:\n",
        "      return False\n",
        "\n",
        "  tmp = urldata['url'].apply(lambda i: parsetest(i))\n",
        "  urldata = urldata[tmp == True]\n",
        "\n",
        "  #Famous Domain check\n",
        "\n",
        "  #alexa_10k = pd.read_csv(colab_path + 'cloudflare-radar-domains-top-100000-20230821-20230828.csv')\n",
        "  #alexa_10k_list = []\n",
        "\n",
        "  #for i in alexa_10k.index.values:\n",
        "  #  alexa_10k_list.append(alexa_10k['domain'][i])\n",
        "\n",
        "  url = urldata['url'].apply(lambda i: i if i[0:4] =='http' else \"//\" + i)\n",
        "  parsed = url.apply(lambda i: urlparse(i))\n",
        "  tld = url.apply(lambda i: get_tld(i,fail_silently=True))\n",
        "\n",
        "  urldata['scheme'] = parsed.apply(lambda i: i.scheme)\n",
        "  urldata['netloc'] = parsed.apply(lambda i: i.netloc)\n",
        "  urldata['params'] = parsed.apply(lambda i: i.params)\n",
        "  urldata['query'] = parsed.apply(lambda i: i.query)\n",
        "  urldata['fragment'] = parsed.apply(lambda i: i.fragment)\n",
        "  urldata['tld'] = tld\n",
        "  # Length Feature\n",
        "  #Length of URL\n",
        "  urldata['url_length'] = urldata['url'].apply(lambda i: len(i))\n",
        "\n",
        "  #Hostname Length\n",
        "  urldata['hostname_length'] = parsed.apply(lambda i: len(i.netloc))\n",
        "\n",
        "  #Path Length\n",
        "  urldata['path_length'] = parsed.apply(lambda i: len(i.path))\n",
        "\n",
        "  #First Directory Length\n",
        "  urldata['fd_length'] = parsed.apply(lambda i: fd_length(i.path))\n",
        "  #Length of Top Level Domain\n",
        "  urldata['tld_length'] = tld.apply(lambda i: len(i) if i is not None else None )\n",
        "\n",
        "  #Count Feature\n",
        "  #특수문자\n",
        "  special_symbols = ['-', '@', '?', '%', '.', '=', 'http', 'https', 'www', '/', '//']\n",
        "  for letter in special_symbols:\n",
        "    urldata['count '+letter] = urldata['url'].apply(lambda i: i.count(letter))\n",
        "  #숫자\n",
        "  def digit_count(url):\n",
        "    digits = 0\n",
        "    for i in url:\n",
        "        if i.isnumeric():\n",
        "            digits = digits + 1\n",
        "    return digits\n",
        "  urldata['count-digits']= urldata['url'].apply(lambda i: digit_count(i))\n",
        "  #알파벳\n",
        "  def letter_count(url):\n",
        "    letters = 0\n",
        "    for i in url:\n",
        "        if i.isalpha():\n",
        "            letters = letters + 1\n",
        "    return letters\n",
        "  urldata['count-letters']= urldata['url'].apply(lambda i: letter_count(i))\n",
        "\n",
        "  # path부분의 /\n",
        "  urldata['count_dir'] = parsed.apply(lambda i: i.path.count('/'))\n",
        "\n",
        "\n",
        "#Use of IP or not in domain\n",
        "  def having_ip_address(url):\n",
        "    match = re.search(\n",
        "        '(([01]?\\\\d\\\\d?|2[0-4]\\\\d|25[0-5])\\\\.([01]?\\\\d\\\\d?|2[0-4]\\\\d|25[0-5])\\\\.([01]?\\\\d\\\\d?|2[0-4]\\\\d|25[0-5])\\\\.'\n",
        "        '([01]?\\\\d\\\\d?|2[0-4]\\\\d|25[0-5])\\\\/)|'  # IPv4\n",
        "        '((0x[0-9a-fA-F]{1,2})\\\\.(0x[0-9a-fA-F]{1,2})\\\\.(0x[0-9a-fA-F]{1,2})\\\\.(0x[0-9a-fA-F]{1,2})\\\\/)' # IPv4 in hexadecimal\n",
        "        '(?:[a-fA-F0-9]{1,4}:){7}[a-fA-F0-9]{1,4}', url)  # Ipv6\n",
        "    if match: # 존재\n",
        "        # print match.group()\n",
        "        return 1\n",
        "    else: # 없음\n",
        "        # print 'No matching pattern found'\n",
        "        return -1\n",
        "  urldata['use_of_ip'] = urldata['url'].apply(lambda i: having_ip_address(i))\n",
        "\n",
        "  #short link\n",
        "  def shortening_service(url):\n",
        "    match = re.search('bit\\.ly|goo\\.gl|shorte\\.st|go2l\\.ink|x\\.co|ow\\.ly|t\\.co|tinyurl|tr\\.im|is\\.gd|cli\\.gs|'\n",
        "                      'yfrog\\.com|migre\\.me|ff\\.im|tiny\\.cc|url4\\.eu|twit\\.ac|su\\.pr|twurl\\.nl|snipurl\\.com|'\n",
        "                      'short\\.to|BudURL\\.com|ping\\.fm|post\\.ly|Just\\.as|bkite\\.com|snipr\\.com|fic\\.kr|loopt\\.us|'\n",
        "                      'doiop\\.com|short\\.ie|kl\\.am|wp\\.me|rubyurl\\.com|om\\.ly|to\\.ly|bit\\.do|t\\.co|lnkd\\.in|'\n",
        "                      'db\\.tt|qr\\.ae|adf\\.ly|goo\\.gl|bitly\\.com|cur\\.lv|tinyurl\\.com|ow\\.ly|bit\\.ly|ity\\.im|'\n",
        "                      'q\\.gs|is\\.gd|po\\.st|bc\\.vc|twitthis\\.com|u\\.to|j\\.mp|buzurl\\.com|cutt\\.us|u\\.bb|yourls\\.org|'\n",
        "                      'x\\.co|prettylinkpro\\.com|scrnch\\.me|filoops\\.info|vzturl\\.com|qr\\.net|1url\\.com|tweez\\.me|v\\.gd|'\n",
        "                      'tr\\.im|link\\.zip\\.net',\n",
        "                      url)\n",
        "    if match: # 존재\n",
        "        return 1\n",
        "    else: # 없음\n",
        "        return -1\n",
        "  urldata['short_url'] = urldata['url'].apply(lambda i: shortening_service(i))\n",
        "\n",
        "\n",
        "  #URL 속에 파일 확장자가 들어있는가?\n",
        "  #파일 확장자가 들어있으면 1 , 없으면 -1\n",
        "  def url_has_file(url):\n",
        "    match = re.search('\\.exe|\\.zip|\\.reg|\\.rar|\\.js|\\.java|\\.lib|\\.log|\\.bat|\\.cmd|\\.vbs|\\.lnk|\\.php|\\.html|\\.htm|\\.hwp|\\.hwpx|\\.pptx|\\.docx|\\.iso|\\.xls|\\.xlsx',url)\n",
        "    if match:\n",
        "      return 1\n",
        "    else:\n",
        "      return -1\n",
        "  urldata['url_has_file'] = urldata['url'].apply(lambda i: url_has_file(i))\n",
        "\n",
        "  # URL 속에 Email 주소가 들어있는가?\n",
        "  # 있으면 1, 없으면 -1\n",
        "  def url_has_email(url):\n",
        "    match = re.search('\\w+\\@\\w+\\.\\w+' , url)\n",
        "    if match:\n",
        "      return 1\n",
        "    else:\n",
        "      return -1\n",
        "  urldata['url_has_email'] = urldata['url'].apply(lambda i: url_has_email(i))\n",
        "\n",
        "\n",
        "  #도메인과 URL의 길이 비율\n",
        "  urldata['len_Domain_ratio'] = parsed.apply(lambda i: len(i.netloc)) / urldata['url_length']\n",
        "  #Path와 URL의 길이 비율\n",
        "  urldata['len_Path_ratio'] = parsed.apply(lambda i: len(i.path)) / urldata['url_length']\n",
        "  #파라미터와 URL의 길이 비율\n",
        "  urldata['len_Params_ratio'] =  parsed.apply(lambda i: len(i.params)) / urldata['url_length']\n",
        "  #Query와 URL의 길이 비율\n",
        "  urldata['len_Query_ratio'] =  parsed.apply(lambda i: len(i.query)) / urldata['url_length']\n",
        "  #fragment와 URL의 길이 비율\n",
        "  urldata['len_Fragment_ratio'] =  parsed.apply(lambda i: len(i.fragment)) / urldata['url_length']\n",
        "\n",
        "  #의심 단어\n",
        "  def suspicious_word(url):\n",
        "    a = re.findall('confirm|account|secure|websc|login|signin|submit|update|logon|secure|wp|cmd|admin|ebayisapi', url)\n",
        "    return len(a)\n",
        "  urldata['suspicious_word'] = urldata['url'].apply(lambda i: suspicious_word(i))\n",
        "\n",
        "\n",
        "  #Famous Domain check\n",
        "  #alexa_10k = pd.read_csv(colab_path + 'cloudflare-radar-domains-top-100000-20230821-20230828.csv')\n",
        "  alexa_10k_list = []\n",
        "\n",
        "  for i in alexa_10k.index.values:\n",
        "    alexa_10k_list.append(alexa_10k['domain'][i])\n",
        "\n",
        "  def dom_alexa_rank(url):\n",
        "   ext = tldextract.extract(url)\n",
        "   domain = ext.domain + '.' + ext.suffix\n",
        "   if domain in alexa_10k_list:\n",
        "      return 1\n",
        "   else:\n",
        "      return -1\n",
        "  urldata['dom_alexa_rank'] = urldata['url'].apply(lambda i: dom_alexa_rank(i))\n",
        "\n",
        "  #check protocol\n",
        "  def https(scheme):\n",
        "    if scheme == 'https':\n",
        "      return 1\n",
        "    return -1\n",
        "  urldata['use_https'] = parsed.apply(lambda i: https(i.scheme))\n",
        "\n",
        "  def http(scheme):\n",
        "    if scheme == 'http':\n",
        "      return 1\n",
        "    return -1\n",
        "  urldata['use_http'] = parsed.apply(lambda i: http(i.scheme))\n",
        "\n",
        "#각 URL의 엔트로피 계산\n",
        "  def entropy(url):\n",
        "    url = url.lower() # 알파벳 개수 세야 해서 소문자로 통일\n",
        "    url_dict = {} # 알파벳 개수 중복 피해야 해서 일단 Dictionary 사용했음\n",
        "    url_len = len(url) # url 길이\n",
        "    p_i = pp_i = entropy = 0\n",
        "  # 위 공식 참고 , pp_i는 (p_i * log2(p_i)) 를 의미함\n",
        "    for i in url:\n",
        "      url_dict[i] = url.count(i)\n",
        "    url_dict = list(url_dict.values()) # 원할하게 하려고 리스트로 바꿨음\n",
        "\n",
        "    for j in url_dict:\n",
        "      p_i = j / url_len\n",
        "      pp_i = p_i * np.log2(p_i)\n",
        "      entropy += pp_i\n",
        "    return -(entropy)\n",
        "  urldata['entropy'] = urldata['url'].apply(lambda i: entropy(i))\n",
        "  #검색량\n",
        "  #def search_url_amount(url):\n",
        "    #Daum_url='https://search.daum.net/search?w=tot&DA=YZR&t_nil_searchbox=btn&sug=&sugo=&sg=&o=&q='\n",
        "    #strOri='&sm=tab_org&qvt=0'\n",
        "    #response = requests.get(Daum_url + url +strOri)\n",
        "    #getlen=len(response.text)\n",
        "    #return getlen\n",
        "  #urldata['search_url_amount'] = urldata['url'].apply(lambda i: search_url_amount(i))\n",
        "  # 검색량 부분을 추가하니 5시간 돌려도 안끝나서 일단 주석처리\n",
        "  return urldata"
      ]
    },
    {
      "cell_type": "code",
      "execution_count": null,
      "metadata": {
        "id": "XkLjAcry14ZL"
      },
      "outputs": [],
      "source": [
        "yong = yong.drop_duplicates('url')\n",
        "yong = yong.reset_index(drop=True)"
      ]
    },
    {
      "cell_type": "code",
      "execution_count": null,
      "metadata": {
        "colab": {
          "base_uri": "https://localhost:8080/",
          "height": 424
        },
        "id": "eqkZg0Ha17cN",
        "outputId": "019601ec-88d2-48c7-98b2-5b77dee31bbd"
      },
      "outputs": [
        {
          "output_type": "execute_result",
          "data": {
            "text/plain": [
              "                                            url    label\n",
              "0       http://socialdisasterscommission.go.kr/   benign\n",
              "1          http://www.bai.go.kr/mobile/index.do   benign\n",
              "2                          http://www.bai.go.kr   benign\n",
              "3           http://www.bai.go.kr/child/index.do   benign\n",
              "4                         http://www.pasa.go.kr   benign\n",
              "...                                         ...      ...\n",
              "147894            http://222.137.33.113:43397/i  malware\n",
              "147895              http://59.178.65.57:59907/i  malware\n",
              "147896       http://123.129.131.17:34216/bin.sh  malware\n",
              "147897              https://human-sarl.ml/ti/?1  malware\n",
              "147898         http://192.3.109.162/91/summ.exe  malware\n",
              "\n",
              "[147899 rows x 2 columns]"
            ],
            "text/html": [
              "\n",
              "  <div id=\"df-c95cd681-a64e-4b28-bab2-022820ce8916\" class=\"colab-df-container\">\n",
              "    <div>\n",
              "<style scoped>\n",
              "    .dataframe tbody tr th:only-of-type {\n",
              "        vertical-align: middle;\n",
              "    }\n",
              "\n",
              "    .dataframe tbody tr th {\n",
              "        vertical-align: top;\n",
              "    }\n",
              "\n",
              "    .dataframe thead th {\n",
              "        text-align: right;\n",
              "    }\n",
              "</style>\n",
              "<table border=\"1\" class=\"dataframe\">\n",
              "  <thead>\n",
              "    <tr style=\"text-align: right;\">\n",
              "      <th></th>\n",
              "      <th>url</th>\n",
              "      <th>label</th>\n",
              "    </tr>\n",
              "  </thead>\n",
              "  <tbody>\n",
              "    <tr>\n",
              "      <th>0</th>\n",
              "      <td>http://socialdisasterscommission.go.kr/</td>\n",
              "      <td>benign</td>\n",
              "    </tr>\n",
              "    <tr>\n",
              "      <th>1</th>\n",
              "      <td>http://www.bai.go.kr/mobile/index.do</td>\n",
              "      <td>benign</td>\n",
              "    </tr>\n",
              "    <tr>\n",
              "      <th>2</th>\n",
              "      <td>http://www.bai.go.kr</td>\n",
              "      <td>benign</td>\n",
              "    </tr>\n",
              "    <tr>\n",
              "      <th>3</th>\n",
              "      <td>http://www.bai.go.kr/child/index.do</td>\n",
              "      <td>benign</td>\n",
              "    </tr>\n",
              "    <tr>\n",
              "      <th>4</th>\n",
              "      <td>http://www.pasa.go.kr</td>\n",
              "      <td>benign</td>\n",
              "    </tr>\n",
              "    <tr>\n",
              "      <th>...</th>\n",
              "      <td>...</td>\n",
              "      <td>...</td>\n",
              "    </tr>\n",
              "    <tr>\n",
              "      <th>147894</th>\n",
              "      <td>http://222.137.33.113:43397/i</td>\n",
              "      <td>malware</td>\n",
              "    </tr>\n",
              "    <tr>\n",
              "      <th>147895</th>\n",
              "      <td>http://59.178.65.57:59907/i</td>\n",
              "      <td>malware</td>\n",
              "    </tr>\n",
              "    <tr>\n",
              "      <th>147896</th>\n",
              "      <td>http://123.129.131.17:34216/bin.sh</td>\n",
              "      <td>malware</td>\n",
              "    </tr>\n",
              "    <tr>\n",
              "      <th>147897</th>\n",
              "      <td>https://human-sarl.ml/ti/?1</td>\n",
              "      <td>malware</td>\n",
              "    </tr>\n",
              "    <tr>\n",
              "      <th>147898</th>\n",
              "      <td>http://192.3.109.162/91/summ.exe</td>\n",
              "      <td>malware</td>\n",
              "    </tr>\n",
              "  </tbody>\n",
              "</table>\n",
              "<p>147899 rows × 2 columns</p>\n",
              "</div>\n",
              "    <div class=\"colab-df-buttons\">\n",
              "\n",
              "  <div class=\"colab-df-container\">\n",
              "    <button class=\"colab-df-convert\" onclick=\"convertToInteractive('df-c95cd681-a64e-4b28-bab2-022820ce8916')\"\n",
              "            title=\"Convert this dataframe to an interactive table.\"\n",
              "            style=\"display:none;\">\n",
              "\n",
              "  <svg xmlns=\"http://www.w3.org/2000/svg\" height=\"24px\" viewBox=\"0 -960 960 960\">\n",
              "    <path d=\"M120-120v-720h720v720H120Zm60-500h600v-160H180v160Zm220 220h160v-160H400v160Zm0 220h160v-160H400v160ZM180-400h160v-160H180v160Zm440 0h160v-160H620v160ZM180-180h160v-160H180v160Zm440 0h160v-160H620v160Z\"/>\n",
              "  </svg>\n",
              "    </button>\n",
              "\n",
              "  <style>\n",
              "    .colab-df-container {\n",
              "      display:flex;\n",
              "      gap: 12px;\n",
              "    }\n",
              "\n",
              "    .colab-df-convert {\n",
              "      background-color: #E8F0FE;\n",
              "      border: none;\n",
              "      border-radius: 50%;\n",
              "      cursor: pointer;\n",
              "      display: none;\n",
              "      fill: #1967D2;\n",
              "      height: 32px;\n",
              "      padding: 0 0 0 0;\n",
              "      width: 32px;\n",
              "    }\n",
              "\n",
              "    .colab-df-convert:hover {\n",
              "      background-color: #E2EBFA;\n",
              "      box-shadow: 0px 1px 2px rgba(60, 64, 67, 0.3), 0px 1px 3px 1px rgba(60, 64, 67, 0.15);\n",
              "      fill: #174EA6;\n",
              "    }\n",
              "\n",
              "    .colab-df-buttons div {\n",
              "      margin-bottom: 4px;\n",
              "    }\n",
              "\n",
              "    [theme=dark] .colab-df-convert {\n",
              "      background-color: #3B4455;\n",
              "      fill: #D2E3FC;\n",
              "    }\n",
              "\n",
              "    [theme=dark] .colab-df-convert:hover {\n",
              "      background-color: #434B5C;\n",
              "      box-shadow: 0px 1px 3px 1px rgba(0, 0, 0, 0.15);\n",
              "      filter: drop-shadow(0px 1px 2px rgba(0, 0, 0, 0.3));\n",
              "      fill: #FFFFFF;\n",
              "    }\n",
              "  </style>\n",
              "\n",
              "    <script>\n",
              "      const buttonEl =\n",
              "        document.querySelector('#df-c95cd681-a64e-4b28-bab2-022820ce8916 button.colab-df-convert');\n",
              "      buttonEl.style.display =\n",
              "        google.colab.kernel.accessAllowed ? 'block' : 'none';\n",
              "\n",
              "      async function convertToInteractive(key) {\n",
              "        const element = document.querySelector('#df-c95cd681-a64e-4b28-bab2-022820ce8916');\n",
              "        const dataTable =\n",
              "          await google.colab.kernel.invokeFunction('convertToInteractive',\n",
              "                                                    [key], {});\n",
              "        if (!dataTable) return;\n",
              "\n",
              "        const docLinkHtml = 'Like what you see? Visit the ' +\n",
              "          '<a target=\"_blank\" href=https://colab.research.google.com/notebooks/data_table.ipynb>data table notebook</a>'\n",
              "          + ' to learn more about interactive tables.';\n",
              "        element.innerHTML = '';\n",
              "        dataTable['output_type'] = 'display_data';\n",
              "        await google.colab.output.renderOutput(dataTable, element);\n",
              "        const docLink = document.createElement('div');\n",
              "        docLink.innerHTML = docLinkHtml;\n",
              "        element.appendChild(docLink);\n",
              "      }\n",
              "    </script>\n",
              "  </div>\n",
              "\n",
              "\n",
              "<div id=\"df-11b27ebd-c999-43b2-8eca-734178c8a2e7\">\n",
              "  <button class=\"colab-df-quickchart\" onclick=\"quickchart('df-11b27ebd-c999-43b2-8eca-734178c8a2e7')\"\n",
              "            title=\"Suggest charts.\"\n",
              "            style=\"display:none;\">\n",
              "\n",
              "<svg xmlns=\"http://www.w3.org/2000/svg\" height=\"24px\"viewBox=\"0 0 24 24\"\n",
              "     width=\"24px\">\n",
              "    <g>\n",
              "        <path d=\"M19 3H5c-1.1 0-2 .9-2 2v14c0 1.1.9 2 2 2h14c1.1 0 2-.9 2-2V5c0-1.1-.9-2-2-2zM9 17H7v-7h2v7zm4 0h-2V7h2v10zm4 0h-2v-4h2v4z\"/>\n",
              "    </g>\n",
              "</svg>\n",
              "  </button>\n",
              "\n",
              "<style>\n",
              "  .colab-df-quickchart {\n",
              "      --bg-color: #E8F0FE;\n",
              "      --fill-color: #1967D2;\n",
              "      --hover-bg-color: #E2EBFA;\n",
              "      --hover-fill-color: #174EA6;\n",
              "      --disabled-fill-color: #AAA;\n",
              "      --disabled-bg-color: #DDD;\n",
              "  }\n",
              "\n",
              "  [theme=dark] .colab-df-quickchart {\n",
              "      --bg-color: #3B4455;\n",
              "      --fill-color: #D2E3FC;\n",
              "      --hover-bg-color: #434B5C;\n",
              "      --hover-fill-color: #FFFFFF;\n",
              "      --disabled-bg-color: #3B4455;\n",
              "      --disabled-fill-color: #666;\n",
              "  }\n",
              "\n",
              "  .colab-df-quickchart {\n",
              "    background-color: var(--bg-color);\n",
              "    border: none;\n",
              "    border-radius: 50%;\n",
              "    cursor: pointer;\n",
              "    display: none;\n",
              "    fill: var(--fill-color);\n",
              "    height: 32px;\n",
              "    padding: 0;\n",
              "    width: 32px;\n",
              "  }\n",
              "\n",
              "  .colab-df-quickchart:hover {\n",
              "    background-color: var(--hover-bg-color);\n",
              "    box-shadow: 0 1px 2px rgba(60, 64, 67, 0.3), 0 1px 3px 1px rgba(60, 64, 67, 0.15);\n",
              "    fill: var(--button-hover-fill-color);\n",
              "  }\n",
              "\n",
              "  .colab-df-quickchart-complete:disabled,\n",
              "  .colab-df-quickchart-complete:disabled:hover {\n",
              "    background-color: var(--disabled-bg-color);\n",
              "    fill: var(--disabled-fill-color);\n",
              "    box-shadow: none;\n",
              "  }\n",
              "\n",
              "  .colab-df-spinner {\n",
              "    border: 2px solid var(--fill-color);\n",
              "    border-color: transparent;\n",
              "    border-bottom-color: var(--fill-color);\n",
              "    animation:\n",
              "      spin 1s steps(1) infinite;\n",
              "  }\n",
              "\n",
              "  @keyframes spin {\n",
              "    0% {\n",
              "      border-color: transparent;\n",
              "      border-bottom-color: var(--fill-color);\n",
              "      border-left-color: var(--fill-color);\n",
              "    }\n",
              "    20% {\n",
              "      border-color: transparent;\n",
              "      border-left-color: var(--fill-color);\n",
              "      border-top-color: var(--fill-color);\n",
              "    }\n",
              "    30% {\n",
              "      border-color: transparent;\n",
              "      border-left-color: var(--fill-color);\n",
              "      border-top-color: var(--fill-color);\n",
              "      border-right-color: var(--fill-color);\n",
              "    }\n",
              "    40% {\n",
              "      border-color: transparent;\n",
              "      border-right-color: var(--fill-color);\n",
              "      border-top-color: var(--fill-color);\n",
              "    }\n",
              "    60% {\n",
              "      border-color: transparent;\n",
              "      border-right-color: var(--fill-color);\n",
              "    }\n",
              "    80% {\n",
              "      border-color: transparent;\n",
              "      border-right-color: var(--fill-color);\n",
              "      border-bottom-color: var(--fill-color);\n",
              "    }\n",
              "    90% {\n",
              "      border-color: transparent;\n",
              "      border-bottom-color: var(--fill-color);\n",
              "    }\n",
              "  }\n",
              "</style>\n",
              "\n",
              "  <script>\n",
              "    async function quickchart(key) {\n",
              "      const quickchartButtonEl =\n",
              "        document.querySelector('#' + key + ' button');\n",
              "      quickchartButtonEl.disabled = true;  // To prevent multiple clicks.\n",
              "      quickchartButtonEl.classList.add('colab-df-spinner');\n",
              "      try {\n",
              "        const charts = await google.colab.kernel.invokeFunction(\n",
              "            'suggestCharts', [key], {});\n",
              "      } catch (error) {\n",
              "        console.error('Error during call to suggestCharts:', error);\n",
              "      }\n",
              "      quickchartButtonEl.classList.remove('colab-df-spinner');\n",
              "      quickchartButtonEl.classList.add('colab-df-quickchart-complete');\n",
              "    }\n",
              "    (() => {\n",
              "      let quickchartButtonEl =\n",
              "        document.querySelector('#df-11b27ebd-c999-43b2-8eca-734178c8a2e7 button');\n",
              "      quickchartButtonEl.style.display =\n",
              "        google.colab.kernel.accessAllowed ? 'block' : 'none';\n",
              "    })();\n",
              "  </script>\n",
              "</div>\n",
              "    </div>\n",
              "  </div>\n"
            ]
          },
          "metadata": {},
          "execution_count": 11
        }
      ],
      "source": [
        "yong"
      ]
    },
    {
      "cell_type": "code",
      "execution_count": null,
      "metadata": {
        "id": "Mkt7vgRs173T"
      },
      "outputs": [],
      "source": [
        "ka.drop(columns = 'Unnamed: 0' , axis= 1 , inplace = True)"
      ]
    },
    {
      "cell_type": "code",
      "execution_count": null,
      "metadata": {
        "id": "2nNjbjeT2G7j"
      },
      "outputs": [],
      "source": [
        "ka.drop(columns =  'result' , axis= 1 , inplace = True)"
      ]
    },
    {
      "cell_type": "code",
      "execution_count": null,
      "metadata": {
        "colab": {
          "base_uri": "https://localhost:8080/",
          "height": 53
        },
        "id": "8D1lntZc2NxM",
        "outputId": "09b86d38-b908-427c-f705-636d50410b83"
      },
      "outputs": [
        {
          "output_type": "execute_result",
          "data": {
            "text/plain": [
              "Empty DataFrame\n",
              "Columns: [url, label]\n",
              "Index: []"
            ],
            "text/html": [
              "\n",
              "  <div id=\"df-558fec60-597d-4b91-be48-569ca3426d86\" class=\"colab-df-container\">\n",
              "    <div>\n",
              "<style scoped>\n",
              "    .dataframe tbody tr th:only-of-type {\n",
              "        vertical-align: middle;\n",
              "    }\n",
              "\n",
              "    .dataframe tbody tr th {\n",
              "        vertical-align: top;\n",
              "    }\n",
              "\n",
              "    .dataframe thead th {\n",
              "        text-align: right;\n",
              "    }\n",
              "</style>\n",
              "<table border=\"1\" class=\"dataframe\">\n",
              "  <thead>\n",
              "    <tr style=\"text-align: right;\">\n",
              "      <th></th>\n",
              "      <th>url</th>\n",
              "      <th>label</th>\n",
              "    </tr>\n",
              "  </thead>\n",
              "  <tbody>\n",
              "  </tbody>\n",
              "</table>\n",
              "</div>\n",
              "    <div class=\"colab-df-buttons\">\n",
              "\n",
              "  <div class=\"colab-df-container\">\n",
              "    <button class=\"colab-df-convert\" onclick=\"convertToInteractive('df-558fec60-597d-4b91-be48-569ca3426d86')\"\n",
              "            title=\"Convert this dataframe to an interactive table.\"\n",
              "            style=\"display:none;\">\n",
              "\n",
              "  <svg xmlns=\"http://www.w3.org/2000/svg\" height=\"24px\" viewBox=\"0 -960 960 960\">\n",
              "    <path d=\"M120-120v-720h720v720H120Zm60-500h600v-160H180v160Zm220 220h160v-160H400v160Zm0 220h160v-160H400v160ZM180-400h160v-160H180v160Zm440 0h160v-160H620v160ZM180-180h160v-160H180v160Zm440 0h160v-160H620v160Z\"/>\n",
              "  </svg>\n",
              "    </button>\n",
              "\n",
              "  <style>\n",
              "    .colab-df-container {\n",
              "      display:flex;\n",
              "      gap: 12px;\n",
              "    }\n",
              "\n",
              "    .colab-df-convert {\n",
              "      background-color: #E8F0FE;\n",
              "      border: none;\n",
              "      border-radius: 50%;\n",
              "      cursor: pointer;\n",
              "      display: none;\n",
              "      fill: #1967D2;\n",
              "      height: 32px;\n",
              "      padding: 0 0 0 0;\n",
              "      width: 32px;\n",
              "    }\n",
              "\n",
              "    .colab-df-convert:hover {\n",
              "      background-color: #E2EBFA;\n",
              "      box-shadow: 0px 1px 2px rgba(60, 64, 67, 0.3), 0px 1px 3px 1px rgba(60, 64, 67, 0.15);\n",
              "      fill: #174EA6;\n",
              "    }\n",
              "\n",
              "    .colab-df-buttons div {\n",
              "      margin-bottom: 4px;\n",
              "    }\n",
              "\n",
              "    [theme=dark] .colab-df-convert {\n",
              "      background-color: #3B4455;\n",
              "      fill: #D2E3FC;\n",
              "    }\n",
              "\n",
              "    [theme=dark] .colab-df-convert:hover {\n",
              "      background-color: #434B5C;\n",
              "      box-shadow: 0px 1px 3px 1px rgba(0, 0, 0, 0.15);\n",
              "      filter: drop-shadow(0px 1px 2px rgba(0, 0, 0, 0.3));\n",
              "      fill: #FFFFFF;\n",
              "    }\n",
              "  </style>\n",
              "\n",
              "    <script>\n",
              "      const buttonEl =\n",
              "        document.querySelector('#df-558fec60-597d-4b91-be48-569ca3426d86 button.colab-df-convert');\n",
              "      buttonEl.style.display =\n",
              "        google.colab.kernel.accessAllowed ? 'block' : 'none';\n",
              "\n",
              "      async function convertToInteractive(key) {\n",
              "        const element = document.querySelector('#df-558fec60-597d-4b91-be48-569ca3426d86');\n",
              "        const dataTable =\n",
              "          await google.colab.kernel.invokeFunction('convertToInteractive',\n",
              "                                                    [key], {});\n",
              "        if (!dataTable) return;\n",
              "\n",
              "        const docLinkHtml = 'Like what you see? Visit the ' +\n",
              "          '<a target=\"_blank\" href=https://colab.research.google.com/notebooks/data_table.ipynb>data table notebook</a>'\n",
              "          + ' to learn more about interactive tables.';\n",
              "        element.innerHTML = '';\n",
              "        dataTable['output_type'] = 'display_data';\n",
              "        await google.colab.output.renderOutput(dataTable, element);\n",
              "        const docLink = document.createElement('div');\n",
              "        docLink.innerHTML = docLinkHtml;\n",
              "        element.appendChild(docLink);\n",
              "      }\n",
              "    </script>\n",
              "  </div>\n",
              "\n",
              "    </div>\n",
              "  </div>\n"
            ]
          },
          "metadata": {},
          "execution_count": 14
        }
      ],
      "source": [
        "ka[ka.duplicated('url') == True]"
      ]
    },
    {
      "cell_type": "code",
      "execution_count": null,
      "metadata": {
        "id": "1BY-awgy2Vjr"
      },
      "outputs": [],
      "source": [
        "yong = yong.sample(frac = 0.3, random_state = 42)\n",
        "ka = ka.sample(frac = 0.3, random_state = 42)"
      ]
    },
    {
      "cell_type": "code",
      "execution_count": null,
      "metadata": {
        "id": "_kfu8caG2fZe"
      },
      "outputs": [],
      "source": [
        "yong = feature_extract(yong)\n",
        "ka = feature_extract(ka)"
      ]
    },
    {
      "cell_type": "code",
      "source": [
        "yong = yong.replace(np.nan,0)"
      ],
      "metadata": {
        "id": "tSbZ6GiN2LCc"
      },
      "execution_count": null,
      "outputs": []
    },
    {
      "cell_type": "code",
      "execution_count": null,
      "metadata": {
        "id": "OvfiNV7-2j4F"
      },
      "outputs": [],
      "source": [
        "target_col = 'label'\n",
        "y = yong[[target_col]]\n",
        "X = yong[['url_length', 'hostname_length', 'path_length',\n",
        "       'tld_length', 'count -', 'count @', 'count ?', 'count %', 'count .',\n",
        "       'count =', 'count http', 'count https', 'count www', 'count /',\n",
        "       'count //', 'count-digits', 'count-letters', 'count_dir', 'use_of_ip',\n",
        "       'short_url', 'url_has_file', 'url_has_email', 'len_Domain_ratio',\n",
        "       'len_Path_ratio', 'len_Params_ratio', 'len_Query_ratio',\n",
        "       'len_Fragment_ratio', 'suspicious_word', 'entropy', 'use_https',\n",
        "       'use_http']]\n",
        "train_X, test_X, train_y, test_y = train_test_split(X, y, test_size=0.3, random_state=42)"
      ]
    },
    {
      "cell_type": "code",
      "execution_count": null,
      "metadata": {
        "id": "jEXcRW892qo6"
      },
      "outputs": [],
      "source": [
        "from sklearn.preprocessing import StandardScaler\n",
        "\n",
        "scaler = StandardScaler()\n",
        "train_X = scaler.fit_transform(train_X)\n",
        "test_X = scaler.fit_transform(test_X)"
      ]
    },
    {
      "cell_type": "code",
      "execution_count": null,
      "metadata": {
        "id": "pFPUERjH2rrk",
        "colab": {
          "base_uri": "https://localhost:8080/"
        },
        "outputId": "35d20111-c3fb-40f0-dcd8-29a428e9985b"
      },
      "outputs": [
        {
          "output_type": "stream",
          "name": "stderr",
          "text": [
            "/usr/local/lib/python3.10/dist-packages/sklearn/utils/validation.py:1143: DataConversionWarning: A column-vector y was passed when a 1d array was expected. Please change the shape of y to (n_samples, ), for example using ravel().\n",
            "  y = column_or_1d(y, warn=True)\n"
          ]
        },
        {
          "output_type": "stream",
          "name": "stdout",
          "text": [
            "0.9233161722802307\n",
            "CPU times: user 34min 14s, sys: 2.58 s, total: 34min 17s\n",
            "Wall time: 34min 25s\n"
          ]
        }
      ],
      "source": [
        "%%time\n",
        "\n",
        "model = SVC(kernel = 'linear' , probability = True, random_state = 42 , decision_function_shape = 'ovr') # linear 커널 사용\n",
        "# model = SVC(kernel = 'linear' ,prob2ability = True, random_state = 42)\n",
        "result = model.fit(train_X, train_y)\n",
        "print(result.score(train_X,train_y))"
      ]
    },
    {
      "cell_type": "code",
      "execution_count": null,
      "metadata": {
        "id": "rMIm0K_k23mP",
        "colab": {
          "base_uri": "https://localhost:8080/"
        },
        "outputId": "2267816c-78f0-4e27-ac75-fae245794a41"
      },
      "outputs": [
        {
          "output_type": "execute_result",
          "data": {
            "text/plain": [
              "0.9205995041694839"
            ]
          },
          "metadata": {},
          "execution_count": 25
        }
      ],
      "source": [
        "y_pred = result.predict(test_X)\n",
        "accuracy = accuracy_score(test_y, y_pred)\n",
        "accuracy"
      ]
    },
    {
      "cell_type": "code",
      "source": [
        "from sklearn.metrics import confusion_matrix\n",
        "import seaborn as sns\n",
        "import matplotlib.pyplot as plt\n",
        "\n",
        "cf = confusion_matrix(test_y, y_pred , labels = [\"benign\", \"phishing\", \"malware\",\"defacement\"])\n",
        "print(cf)\n",
        "\n",
        "# Seaborn을 사용하여 혼동 행렬 시각화\n",
        "plt.figure(figsize=(8, 6))\n",
        "sns.set(font_scale=1.2)  # 폰트 크기 설정\n",
        "\n",
        "# 혼동 행렬 히트맵 생성\n",
        "sns.heatmap(cf, annot=True, fmt=\"d\", cmap=\"Blues\", xticklabels=[\"benign\",\"phishing\",\"malware\",\"defacement\"],\n",
        "            yticklabels=[\"benign\",\"phishing\", \"malware\",\"defacement\"])\n",
        "\n",
        "# 플롯에 제목 추가\n",
        "plt.title(\"Confusion Matrix\")\n",
        "\n",
        "# x축 및 y축 레이블 추가\n",
        "plt.xlabel(\"Predicted\")\n",
        "plt.ylabel(\"Actual\")\n",
        "\n",
        "# 플롯 표시\n",
        "plt.show()"
      ],
      "metadata": {
        "colab": {
          "base_uri": "https://localhost:8080/",
          "height": 651
        },
        "id": "9hnSdjEbHXTQ",
        "outputId": "fd031fd9-0485-4b42-ba7d-61be0b7ac34b"
      },
      "execution_count": null,
      "outputs": [
        {
          "output_type": "stream",
          "name": "stdout",
          "text": [
            "[[31414   359    81   257]\n",
            " [ 1340  2002    51    84]\n",
            " [  211   124  3865    32]\n",
            " [  197     5     5  3451]]\n"
          ]
        },
        {
          "output_type": "display_data",
          "data": {
            "text/plain": [
              "<Figure size 800x600 with 2 Axes>"
            ],
            "image/png": "[encoded data removed]"
          },
          "metadata": {}
        }
      ]
    },
    {
      "cell_type": "code",
      "source": [
        "test = pd.DataFrame({'url': ['www.naver.com','https://www.naver.com/', 'https://www.youtube.com/watch?v=cJ15o438hww', 'https://cyber.sogang.ac.kr/ilos/main/main_form.acl','https://sogang.ac.kr/index.do','google.com','https://www.hoseo.ac.kr/Home/Main.mbz', 'https://discord.com/','https://learn.hoseo.ac.kr/']})\n",
        "test = feature_extract(test)\n",
        "y_pred=model.predict(test[['url_length', 'hostname_length', 'path_length',\n",
        "       'tld_length', 'count -', 'count @', 'count ?', 'count %', 'count .',\n",
        "       'count =', 'count http', 'count https', 'count www', 'count /',\n",
        "       'count //', 'count-digits', 'count-letters', 'count_dir', 'use_of_ip',\n",
        "       'short_url', 'url_has_file', 'url_has_email', 'len_Domain_ratio',\n",
        "       'len_Path_ratio', 'len_Params_ratio', 'len_Query_ratio',\n",
        "       'len_Fragment_ratio', 'suspicious_word', 'entropy', 'use_https',\n",
        "       'use_http']])\n",
        "y_pred"
      ],
      "metadata": {
        "id": "9eA0fCxrHibe",
        "colab": {
          "base_uri": "https://localhost:8080/"
        },
        "outputId": "e45d3c88-5732-4fcb-f7cd-5610f56e2f97"
      },
      "execution_count": null,
      "outputs": [
        {
          "output_type": "stream",
          "name": "stderr",
          "text": [
            "/usr/local/lib/python3.10/dist-packages/sklearn/base.py:432: UserWarning: X has feature names, but SVC was fitted without feature names\n",
            "  warnings.warn(\n"
          ]
        },
        {
          "output_type": "execute_result",
          "data": {
            "text/plain": [
              "array(['malware', 'malware', 'spam', 'spam', 'spam', 'malware', 'spam',\n",
              "       'malware', 'malware'], dtype=object)"
            ]
          },
          "metadata": {},
          "execution_count": 27
        }
      ]
    },
    {
      "cell_type": "code",
      "source": [
        "import shap\n",
        "explainer = shap.TreeExplainer(model)\n",
        "shap_values = explainer.shap_values(X)\n",
        "\n",
        "# 특정 예제에 대한 SHAP 요약 그래프 플로팅\n",
        "shap.summary_plot(shap_values, X)"
      ],
      "metadata": {
        "id": "S4UpPoS4HkFb"
      },
      "execution_count": null,
      "outputs": []
    },
    {
      "cell_type": "code",
      "source": [
        "ka = ka.replace(np.nan,0)"
      ],
      "metadata": {
        "id": "kNMU62-5IBvA"
      },
      "execution_count": null,
      "outputs": []
    },
    {
      "cell_type": "code",
      "execution_count": null,
      "metadata": {
        "id": "gW0t3Cj32vpX"
      },
      "outputs": [],
      "source": [
        "target_col = 'label'\n",
        "y = ka[[target_col]]\n",
        "X = ka[['url_length', 'hostname_length', 'path_length',\n",
        "       'tld_length', 'count -', 'count @', 'count ?', 'count %', 'count .',\n",
        "       'count =', 'count http', 'count https', 'count www', 'count /',\n",
        "       'count //', 'count-digits', 'count-letters', 'count_dir', 'use_of_ip',\n",
        "       'short_url', 'url_has_file', 'url_has_email', 'len_Domain_ratio',\n",
        "       'len_Path_ratio', 'len_Params_ratio', 'len_Query_ratio',\n",
        "       'len_Fragment_ratio', 'suspicious_word', 'entropy', 'use_https',\n",
        "       'use_http']]\n",
        "ttrain_X, ttest_X, ttrain_y, ttest_y = train_test_split(X, y, test_size=0.3, random_state=42)"
      ]
    },
    {
      "cell_type": "code",
      "source": [
        "ka"
      ],
      "metadata": {
        "id": "cazM22wQ_MC2"
      },
      "execution_count": null,
      "outputs": []
    },
    {
      "cell_type": "code",
      "execution_count": null,
      "metadata": {
        "id": "cJ2RkhfP2vl-"
      },
      "outputs": [],
      "source": [
        "from sklearn.preprocessing import StandardScaler\n",
        "\n",
        "scaler = StandardScaler()\n",
        "ttrain_X = scaler.fit_transform(ttrain_X)\n",
        "ttest_X = scaler.fit_transform(ttest_X)"
      ]
    },
    {
      "cell_type": "code",
      "execution_count": null,
      "metadata": {
        "id": "_8HbPF8d2vjH",
        "colab": {
          "base_uri": "https://localhost:8080/"
        },
        "outputId": "abf8ef84-a1f2-49a1-d1f6-d66ab1be4824"
      },
      "outputs": [
        {
          "output_type": "stream",
          "name": "stderr",
          "text": [
            "/usr/local/lib/python3.10/dist-packages/sklearn/utils/validation.py:1143: DataConversionWarning: A column-vector y was passed when a 1d array was expected. Please change the shape of y to (n_samples, ), for example using ravel().\n",
            "  y = column_or_1d(y, warn=True)\n"
          ]
        },
        {
          "output_type": "stream",
          "name": "stdout",
          "text": [
            "0.9967853822158332\n",
            "CPU times: user 2h 41min 46s, sys: 10.1 s, total: 2h 41min 56s\n",
            "Wall time: 2h 42min 16s\n"
          ]
        }
      ],
      "source": [
        "%%time\n",
        "\n",
        "model = SVC(kernel = 'linear' , probability = True, random_state = 42 , decision_function_shape = 'ovr') # linear 커널 사용\n",
        "# model = SVC(kernel = 'linear' ,prob2ability = True, random_state = 42)\n",
        "result = model.fit(ttrain_X, ttrain_y)\n",
        "print(result.score(ttrain_X,ttrain_y))"
      ]
    },
    {
      "cell_type": "code",
      "execution_count": null,
      "metadata": {
        "id": "yDmUkWfH24K7",
        "colab": {
          "base_uri": "https://localhost:8080/"
        },
        "outputId": "35c1bde1-6dda-49dc-98e9-06cc19d364bc"
      },
      "outputs": [
        {
          "output_type": "execute_result",
          "data": {
            "text/plain": [
              "0.9965717162891605"
            ]
          },
          "metadata": {},
          "execution_count": 33
        }
      ],
      "source": [
        "y_pred = result.predict(ttest_X)\n",
        "accuracy = accuracy_score(ttest_y, y_pred)\n",
        "accuracy"
      ]
    },
    {
      "cell_type": "code",
      "source": [
        "from sklearn.metrics import confusion_matrix\n",
        "import seaborn as sns\n",
        "import matplotlib.pyplot as plt\n",
        "\n",
        "cf = confusion_matrix(ttest_y, y_pred , labels = [\"benign\", \"malicious\"])\n",
        "print(cf)\n",
        "\n",
        "# Seaborn을 사용하여 혼동 행렬 시각화\n",
        "plt.figure(figsize=(8, 6))\n",
        "sns.set(font_scale=1.2)  # 폰트 크기 설정\n",
        "\n",
        "# 혼동 행렬 히트맵 생성\n",
        "sns.heatmap(cf, annot=True, fmt=\"d\", cmap=\"Blues\", xticklabels=[\"benign\",\"malicious\"],\n",
        "            yticklabels=[\"benign\",\"malicious\"])\n",
        "\n",
        "# 플롯에 제목 추가\n",
        "plt.title(\"Confusion Matrix\")\n",
        "\n",
        "# x축 및 y축 레이블 추가\n",
        "plt.xlabel(\"Predicted\")\n",
        "plt.ylabel(\"Actual\")\n",
        "\n",
        "# 플롯 표시\n",
        "plt.show()"
      ],
      "metadata": {
        "colab": {
          "base_uri": "https://localhost:8080/",
          "height": 615
        },
        "id": "1rSVWldyIGPb",
        "outputId": "cb08d6fc-f4b8-48bd-f924-8e1aee38762a"
      },
      "execution_count": null,
      "outputs": [
        {
          "output_type": "stream",
          "name": "stdout",
          "text": [
            "[[103239    209]\n",
            " [   254  31351]]\n"
          ]
        },
        {
          "output_type": "display_data",
          "data": {
            "text/plain": [
              "<Figure size 800x600 with 2 Axes>"
            ],
            "image/png": "[encoded data removed]"
          },
          "metadata": {}
        }
      ]
    },
    {
      "cell_type": "code",
      "source": [
        "test = pd.DataFrame({'url': ['www.naver.com','https://www.naver.com/', 'https://www.youtube.com/watch?v=cJ15o438hww', 'https://cyber.sogang.ac.kr/ilos/main/main_form.acl','https://sogang.ac.kr/index.do','google.com','https://www.hoseo.ac.kr/Home/Main.mbz', 'https://discord.com/','https://learn.hoseo.ac.kr/']})\n",
        "test = feature_extract(test)\n",
        "y_pred=model.predict(test[['url_length', 'hostname_length', 'path_length',\n",
        "       'tld_length', 'count -', 'count @', 'count ?', 'count %', 'count .',\n",
        "       'count =', 'count http', 'count https', 'count www', 'count /',\n",
        "       'count //', 'count-digits', 'count-letters', 'count_dir', 'use_of_ip',\n",
        "       'short_url', 'url_has_file', 'url_has_email', 'len_Domain_ratio',\n",
        "       'len_Path_ratio', 'len_Params_ratio', 'len_Query_ratio',\n",
        "       'len_Fragment_ratio', 'suspicious_word', 'entropy', 'use_https',\n",
        "       'use_http']])\n",
        "y_pred"
      ],
      "metadata": {
        "colab": {
          "base_uri": "https://localhost:8080/"
        },
        "id": "oIvym48AILQO",
        "outputId": "b37149a0-fed0-4f0c-9dfd-83e59b16afd6"
      },
      "execution_count": null,
      "outputs": [
        {
          "output_type": "stream",
          "name": "stderr",
          "text": [
            "/usr/local/lib/python3.10/dist-packages/sklearn/base.py:432: UserWarning: X has feature names, but SVC was fitted without feature names\n",
            "  warnings.warn(\n"
          ]
        },
        {
          "output_type": "execute_result",
          "data": {
            "text/plain": [
              "array(['benign', 'benign', 'benign', 'benign', 'benign', 'benign',\n",
              "       'benign', 'benign', 'benign'], dtype=object)"
            ]
          },
          "metadata": {},
          "execution_count": 35
        }
      ]
    },
    {
      "cell_type": "code",
      "source": [
        "test = pd.DataFrame({'url': ['www.naver.com','https://www.naver.com/', 'https://www.youtube.com/watch?v=cJ15o438hww', 'https://cyber.sogang.ac.kr/ilos/main/main_form.acl','https://sogang.ac.kr/index.do','google.com','https://www.hoseo.ac.kr/Home/Main.mbz', 'https://discord.com/','https://learn.hoseo.ac.kr/']})\n",
        "test = feature_extract(test)\n",
        "y_pred=model.predict(test[['url_length', 'hostname_length', 'path_length',\n",
        "       'tld_length', 'count -', 'count @', 'count ?', 'count %', 'count .',\n",
        "       'count =', 'count http', 'count https', 'count www', 'count /',\n",
        "       'count //', 'count-digits', 'count-letters', 'count_dir', 'use_of_ip',\n",
        "       'short_url', 'url_has_file', 'url_has_email', 'len_Domain_ratio',\n",
        "       'len_Path_ratio', 'len_Params_ratio', 'len_Query_ratio',\n",
        "       'len_Fragment_ratio', 'suspicious_word', 'entropy', 'use_https',\n",
        "       'use_http']])\n",
        "y_pred"
      ],
      "metadata": {
        "id": "GQVtb6o2uDyq",
        "outputId": "7707e856-0823-4ab0-8d34-951dee51dd14",
        "colab": {
          "base_uri": "https://localhost:8080/",
          "height": 182
        }
      },
      "execution_count": null,
      "outputs": [
        {
          "output_type": "error",
          "ename": "NameError",
          "evalue": "ignored",
          "traceback": [
            "\u001b[0;31m---------------------------------------------------------------------------\u001b[0m",
            "\u001b[0;31mNameError\u001b[0m                                 Traceback (most recent call last)",
            "\u001b[0;32m<ipython-input-1-ff6fa586ab2a>\u001b[0m in \u001b[0;36m<cell line: 1>\u001b[0;34m()\u001b[0m\n\u001b[0;32m----> 1\u001b[0;31m \u001b[0mka\u001b[0m\u001b[0;34m\u001b[0m\u001b[0;34m\u001b[0m\u001b[0m\n\u001b[0m",
            "\u001b[0;31mNameError\u001b[0m: name 'ka' is not defined"
          ]
        }
      ]
    },
    {
      "cell_type": "markdown",
      "source": [
        "# 용범 데이터셋 (악성 부분) + urldata (정상 부분)"
      ],
      "metadata": {
        "id": "D6fMMZAmlaxt"
      }
    },
    {
      "cell_type": "markdown",
      "source": [
        "## 원래 학습 코드들"
      ],
      "metadata": {
        "id": "hx5JgmL1pHHJ"
      }
    },
    {
      "cell_type": "code",
      "source": [
        "print(len(yong[yong['label'] == 'defacement']))\n",
        "print(len(yong[yong['label'] == 'phishing']))\n",
        "print(len(yong[yong['label'] == 'malware']))"
      ],
      "metadata": {
        "colab": {
          "base_uri": "https://localhost:8080/"
        },
        "id": "ZDy4TGR1m_P9",
        "outputId": "541947c2-3dcd-48ed-e790-344532bf4d33"
      },
      "execution_count": null,
      "outputs": [
        {
          "output_type": "stream",
          "name": "stdout",
          "text": [
            "11914\n",
            "11699\n",
            "14370\n"
          ]
        }
      ]
    },
    {
      "cell_type": "code",
      "source": [
        "yong_mal = yong[yong['label'] != 'benign']\n",
        "yong_mal"
      ],
      "metadata": {
        "colab": {
          "base_uri": "https://localhost:8080/",
          "height": 424
        },
        "id": "hqqaJ1kVlgn-",
        "outputId": "cef0a207-dd4a-4e10-e5eb-2a1dfd72b85d"
      },
      "execution_count": 11,
      "outputs": [
        {
          "output_type": "execute_result",
          "data": {
            "text/plain": [
              "                                                      url     label\n",
              "123362         http://help-center320.crabdance.com/verify  phishing\n",
              "123363      https://bancolombia.com708792.repl.co/?fnet31  phishing\n",
              "123364       https://mpnce.jkhrs.pl/sub/email@example.com  phishing\n",
              "123365  https://mrtg.emailpartners.net/a/e/v0k3no?cid=...  phishing\n",
              "123366  https://sds-company.su/MynVOOUnjhbhsJqN&amp;mI...  phishing\n",
              "...                                                   ...       ...\n",
              "173904                      http://222.137.33.113:43397/i   malware\n",
              "173905                        http://59.178.65.57:59907/i   malware\n",
              "173906                 http://123.129.131.17:34216/bin.sh   malware\n",
              "173907                        https://human-sarl.ml/ti/?1   malware\n",
              "173908                   http://192.3.109.162/91/summ.exe   malware\n",
              "\n",
              "[50547 rows x 2 columns]"
            ],
            "text/html": [
              "\n",
              "  <div id=\"df-57458953-4653-4d86-8b16-7c54c2eac5e0\" class=\"colab-df-container\">\n",
              "    <div>\n",
              "<style scoped>\n",
              "    .dataframe tbody tr th:only-of-type {\n",
              "        vertical-align: middle;\n",
              "    }\n",
              "\n",
              "    .dataframe tbody tr th {\n",
              "        vertical-align: top;\n",
              "    }\n",
              "\n",
              "    .dataframe thead th {\n",
              "        text-align: right;\n",
              "    }\n",
              "</style>\n",
              "<table border=\"1\" class=\"dataframe\">\n",
              "  <thead>\n",
              "    <tr style=\"text-align: right;\">\n",
              "      <th></th>\n",
              "      <th>url</th>\n",
              "      <th>label</th>\n",
              "    </tr>\n",
              "  </thead>\n",
              "  <tbody>\n",
              "    <tr>\n",
              "      <th>123362</th>\n",
              "      <td>http://help-center320.crabdance.com/verify</td>\n",
              "      <td>phishing</td>\n",
              "    </tr>\n",
              "    <tr>\n",
              "      <th>123363</th>\n",
              "      <td>https://bancolombia.com708792.repl.co/?fnet31</td>\n",
              "      <td>phishing</td>\n",
              "    </tr>\n",
              "    <tr>\n",
              "      <th>123364</th>\n",
              "      <td>https://mpnce.jkhrs.pl/sub/email@example.com</td>\n",
              "      <td>phishing</td>\n",
              "    </tr>\n",
              "    <tr>\n",
              "      <th>123365</th>\n",
              "      <td>https://mrtg.emailpartners.net/a/e/v0k3no?cid=...</td>\n",
              "      <td>phishing</td>\n",
              "    </tr>\n",
              "    <tr>\n",
              "      <th>123366</th>\n",
              "      <td>https://sds-company.su/MynVOOUnjhbhsJqN&amp;amp;mI...</td>\n",
              "      <td>phishing</td>\n",
              "    </tr>\n",
              "    <tr>\n",
              "      <th>...</th>\n",
              "      <td>...</td>\n",
              "      <td>...</td>\n",
              "    </tr>\n",
              "    <tr>\n",
              "      <th>173904</th>\n",
              "      <td>http://222.137.33.113:43397/i</td>\n",
              "      <td>malware</td>\n",
              "    </tr>\n",
              "    <tr>\n",
              "      <th>173905</th>\n",
              "      <td>http://59.178.65.57:59907/i</td>\n",
              "      <td>malware</td>\n",
              "    </tr>\n",
              "    <tr>\n",
              "      <th>173906</th>\n",
              "      <td>http://123.129.131.17:34216/bin.sh</td>\n",
              "      <td>malware</td>\n",
              "    </tr>\n",
              "    <tr>\n",
              "      <th>173907</th>\n",
              "      <td>https://human-sarl.ml/ti/?1</td>\n",
              "      <td>malware</td>\n",
              "    </tr>\n",
              "    <tr>\n",
              "      <th>173908</th>\n",
              "      <td>http://192.3.109.162/91/summ.exe</td>\n",
              "      <td>malware</td>\n",
              "    </tr>\n",
              "  </tbody>\n",
              "</table>\n",
              "<p>50547 rows × 2 columns</p>\n",
              "</div>\n",
              "    <div class=\"colab-df-buttons\">\n",
              "\n",
              "  <div class=\"colab-df-container\">\n",
              "    <button class=\"colab-df-convert\" onclick=\"convertToInteractive('df-57458953-4653-4d86-8b16-7c54c2eac5e0')\"\n",
              "            title=\"Convert this dataframe to an interactive table.\"\n",
              "            style=\"display:none;\">\n",
              "\n",
              "  <svg xmlns=\"http://www.w3.org/2000/svg\" height=\"24px\" viewBox=\"0 -960 960 960\">\n",
              "    <path d=\"M120-120v-720h720v720H120Zm60-500h600v-160H180v160Zm220 220h160v-160H400v160Zm0 220h160v-160H400v160ZM180-400h160v-160H180v160Zm440 0h160v-160H620v160ZM180-180h160v-160H180v160Zm440 0h160v-160H620v160Z\"/>\n",
              "  </svg>\n",
              "    </button>\n",
              "\n",
              "  <style>\n",
              "    .colab-df-container {\n",
              "      display:flex;\n",
              "      gap: 12px;\n",
              "    }\n",
              "\n",
              "    .colab-df-convert {\n",
              "      background-color: #E8F0FE;\n",
              "      border: none;\n",
              "      border-radius: 50%;\n",
              "      cursor: pointer;\n",
              "      display: none;\n",
              "      fill: #1967D2;\n",
              "      height: 32px;\n",
              "      padding: 0 0 0 0;\n",
              "      width: 32px;\n",
              "    }\n",
              "\n",
              "    .colab-df-convert:hover {\n",
              "      background-color: #E2EBFA;\n",
              "      box-shadow: 0px 1px 2px rgba(60, 64, 67, 0.3), 0px 1px 3px 1px rgba(60, 64, 67, 0.15);\n",
              "      fill: #174EA6;\n",
              "    }\n",
              "\n",
              "    .colab-df-buttons div {\n",
              "      margin-bottom: 4px;\n",
              "    }\n",
              "\n",
              "    [theme=dark] .colab-df-convert {\n",
              "      background-color: #3B4455;\n",
              "      fill: #D2E3FC;\n",
              "    }\n",
              "\n",
              "    [theme=dark] .colab-df-convert:hover {\n",
              "      background-color: #434B5C;\n",
              "      box-shadow: 0px 1px 3px 1px rgba(0, 0, 0, 0.15);\n",
              "      filter: drop-shadow(0px 1px 2px rgba(0, 0, 0, 0.3));\n",
              "      fill: #FFFFFF;\n",
              "    }\n",
              "  </style>\n",
              "\n",
              "    <script>\n",
              "      const buttonEl =\n",
              "        document.querySelector('#df-57458953-4653-4d86-8b16-7c54c2eac5e0 button.colab-df-convert');\n",
              "      buttonEl.style.display =\n",
              "        google.colab.kernel.accessAllowed ? 'block' : 'none';\n",
              "\n",
              "      async function convertToInteractive(key) {\n",
              "        const element = document.querySelector('#df-57458953-4653-4d86-8b16-7c54c2eac5e0');\n",
              "        const dataTable =\n",
              "          await google.colab.kernel.invokeFunction('convertToInteractive',\n",
              "                                                    [key], {});\n",
              "        if (!dataTable) return;\n",
              "\n",
              "        const docLinkHtml = 'Like what you see? Visit the ' +\n",
              "          '<a target=\"_blank\" href=https://colab.research.google.com/notebooks/data_table.ipynb>data table notebook</a>'\n",
              "          + ' to learn more about interactive tables.';\n",
              "        element.innerHTML = '';\n",
              "        dataTable['output_type'] = 'display_data';\n",
              "        await google.colab.output.renderOutput(dataTable, element);\n",
              "        const docLink = document.createElement('div');\n",
              "        docLink.innerHTML = docLinkHtml;\n",
              "        element.appendChild(docLink);\n",
              "      }\n",
              "    </script>\n",
              "  </div>\n",
              "\n",
              "\n",
              "<div id=\"df-e9ebd653-3d59-42a5-a70e-003b7093ba6e\">\n",
              "  <button class=\"colab-df-quickchart\" onclick=\"quickchart('df-e9ebd653-3d59-42a5-a70e-003b7093ba6e')\"\n",
              "            title=\"Suggest charts.\"\n",
              "            style=\"display:none;\">\n",
              "\n",
              "<svg xmlns=\"http://www.w3.org/2000/svg\" height=\"24px\"viewBox=\"0 0 24 24\"\n",
              "     width=\"24px\">\n",
              "    <g>\n",
              "        <path d=\"M19 3H5c-1.1 0-2 .9-2 2v14c0 1.1.9 2 2 2h14c1.1 0 2-.9 2-2V5c0-1.1-.9-2-2-2zM9 17H7v-7h2v7zm4 0h-2V7h2v10zm4 0h-2v-4h2v4z\"/>\n",
              "    </g>\n",
              "</svg>\n",
              "  </button>\n",
              "\n",
              "<style>\n",
              "  .colab-df-quickchart {\n",
              "      --bg-color: #E8F0FE;\n",
              "      --fill-color: #1967D2;\n",
              "      --hover-bg-color: #E2EBFA;\n",
              "      --hover-fill-color: #174EA6;\n",
              "      --disabled-fill-color: #AAA;\n",
              "      --disabled-bg-color: #DDD;\n",
              "  }\n",
              "\n",
              "  [theme=dark] .colab-df-quickchart {\n",
              "      --bg-color: #3B4455;\n",
              "      --fill-color: #D2E3FC;\n",
              "      --hover-bg-color: #434B5C;\n",
              "      --hover-fill-color: #FFFFFF;\n",
              "      --disabled-bg-color: #3B4455;\n",
              "      --disabled-fill-color: #666;\n",
              "  }\n",
              "\n",
              "  .colab-df-quickchart {\n",
              "    background-color: var(--bg-color);\n",
              "    border: none;\n",
              "    border-radius: 50%;\n",
              "    cursor: pointer;\n",
              "    display: none;\n",
              "    fill: var(--fill-color);\n",
              "    height: 32px;\n",
              "    padding: 0;\n",
              "    width: 32px;\n",
              "  }\n",
              "\n",
              "  .colab-df-quickchart:hover {\n",
              "    background-color: var(--hover-bg-color);\n",
              "    box-shadow: 0 1px 2px rgba(60, 64, 67, 0.3), 0 1px 3px 1px rgba(60, 64, 67, 0.15);\n",
              "    fill: var(--button-hover-fill-color);\n",
              "  }\n",
              "\n",
              "  .colab-df-quickchart-complete:disabled,\n",
              "  .colab-df-quickchart-complete:disabled:hover {\n",
              "    background-color: var(--disabled-bg-color);\n",
              "    fill: var(--disabled-fill-color);\n",
              "    box-shadow: none;\n",
              "  }\n",
              "\n",
              "  .colab-df-spinner {\n",
              "    border: 2px solid var(--fill-color);\n",
              "    border-color: transparent;\n",
              "    border-bottom-color: var(--fill-color);\n",
              "    animation:\n",
              "      spin 1s steps(1) infinite;\n",
              "  }\n",
              "\n",
              "  @keyframes spin {\n",
              "    0% {\n",
              "      border-color: transparent;\n",
              "      border-bottom-color: var(--fill-color);\n",
              "      border-left-color: var(--fill-color);\n",
              "    }\n",
              "    20% {\n",
              "      border-color: transparent;\n",
              "      border-left-color: var(--fill-color);\n",
              "      border-top-color: var(--fill-color);\n",
              "    }\n",
              "    30% {\n",
              "      border-color: transparent;\n",
              "      border-left-color: var(--fill-color);\n",
              "      border-top-color: var(--fill-color);\n",
              "      border-right-color: var(--fill-color);\n",
              "    }\n",
              "    40% {\n",
              "      border-color: transparent;\n",
              "      border-right-color: var(--fill-color);\n",
              "      border-top-color: var(--fill-color);\n",
              "    }\n",
              "    60% {\n",
              "      border-color: transparent;\n",
              "      border-right-color: var(--fill-color);\n",
              "    }\n",
              "    80% {\n",
              "      border-color: transparent;\n",
              "      border-right-color: var(--fill-color);\n",
              "      border-bottom-color: var(--fill-color);\n",
              "    }\n",
              "    90% {\n",
              "      border-color: transparent;\n",
              "      border-bottom-color: var(--fill-color);\n",
              "    }\n",
              "  }\n",
              "</style>\n",
              "\n",
              "  <script>\n",
              "    async function quickchart(key) {\n",
              "      const quickchartButtonEl =\n",
              "        document.querySelector('#' + key + ' button');\n",
              "      quickchartButtonEl.disabled = true;  // To prevent multiple clicks.\n",
              "      quickchartButtonEl.classList.add('colab-df-spinner');\n",
              "      try {\n",
              "        const charts = await google.colab.kernel.invokeFunction(\n",
              "            'suggestCharts', [key], {});\n",
              "      } catch (error) {\n",
              "        console.error('Error during call to suggestCharts:', error);\n",
              "      }\n",
              "      quickchartButtonEl.classList.remove('colab-df-spinner');\n",
              "      quickchartButtonEl.classList.add('colab-df-quickchart-complete');\n",
              "    }\n",
              "    (() => {\n",
              "      let quickchartButtonEl =\n",
              "        document.querySelector('#df-e9ebd653-3d59-42a5-a70e-003b7093ba6e button');\n",
              "      quickchartButtonEl.style.display =\n",
              "        google.colab.kernel.accessAllowed ? 'block' : 'none';\n",
              "    })();\n",
              "  </script>\n",
              "</div>\n",
              "    </div>\n",
              "  </div>\n"
            ]
          },
          "metadata": {},
          "execution_count": 11
        }
      ]
    },
    {
      "cell_type": "code",
      "source": [
        "ka_be = ka[ka['label'] == 'benign']\n",
        "ka_be.drop(columns = ['Unnamed: 0','result'],axis=1,)"
      ],
      "metadata": {
        "colab": {
          "base_uri": "https://localhost:8080/",
          "height": 424
        },
        "id": "MhyRp4hNluN-",
        "outputId": "463d75e6-c34c-4449-f3df-bfdbb3bd77ab"
      },
      "execution_count": 12,
      "outputs": [
        {
          "output_type": "execute_result",
          "data": {
            "text/plain": [
              "                                       url   label\n",
              "0                   https://www.google.com  benign\n",
              "1                  https://www.youtube.com  benign\n",
              "2                 https://www.facebook.com  benign\n",
              "3                    https://www.baidu.com  benign\n",
              "4                https://www.wikipedia.org  benign\n",
              "...                                    ...     ...\n",
              "345733    https://taekwondo.wisebytes.net/  benign\n",
              "345734        https://www.steveconway.net/  benign\n",
              "345735                https://www.tkd.net/  benign\n",
              "345736     https://www.taekwondobible.com/  benign\n",
              "345737  https://www.angelfire.com/mi2/540/  benign\n",
              "\n",
              "[345738 rows x 2 columns]"
            ],
            "text/html": [
              "\n",
              "  <div id=\"df-cf05a59d-14ce-4f60-afa0-0f04aa3cf9e9\" class=\"colab-df-container\">\n",
              "    <div>\n",
              "<style scoped>\n",
              "    .dataframe tbody tr th:only-of-type {\n",
              "        vertical-align: middle;\n",
              "    }\n",
              "\n",
              "    .dataframe tbody tr th {\n",
              "        vertical-align: top;\n",
              "    }\n",
              "\n",
              "    .dataframe thead th {\n",
              "        text-align: right;\n",
              "    }\n",
              "</style>\n",
              "<table border=\"1\" class=\"dataframe\">\n",
              "  <thead>\n",
              "    <tr style=\"text-align: right;\">\n",
              "      <th></th>\n",
              "      <th>url</th>\n",
              "      <th>label</th>\n",
              "    </tr>\n",
              "  </thead>\n",
              "  <tbody>\n",
              "    <tr>\n",
              "      <th>0</th>\n",
              "      <td>https://www.google.com</td>\n",
              "      <td>benign</td>\n",
              "    </tr>\n",
              "    <tr>\n",
              "      <th>1</th>\n",
              "      <td>https://www.youtube.com</td>\n",
              "      <td>benign</td>\n",
              "    </tr>\n",
              "    <tr>\n",
              "      <th>2</th>\n",
              "      <td>https://www.facebook.com</td>\n",
              "      <td>benign</td>\n",
              "    </tr>\n",
              "    <tr>\n",
              "      <th>3</th>\n",
              "      <td>https://www.baidu.com</td>\n",
              "      <td>benign</td>\n",
              "    </tr>\n",
              "    <tr>\n",
              "      <th>4</th>\n",
              "      <td>https://www.wikipedia.org</td>\n",
              "      <td>benign</td>\n",
              "    </tr>\n",
              "    <tr>\n",
              "      <th>...</th>\n",
              "      <td>...</td>\n",
              "      <td>...</td>\n",
              "    </tr>\n",
              "    <tr>\n",
              "      <th>345733</th>\n",
              "      <td>https://taekwondo.wisebytes.net/</td>\n",
              "      <td>benign</td>\n",
              "    </tr>\n",
              "    <tr>\n",
              "      <th>345734</th>\n",
              "      <td>https://www.steveconway.net/</td>\n",
              "      <td>benign</td>\n",
              "    </tr>\n",
              "    <tr>\n",
              "      <th>345735</th>\n",
              "      <td>https://www.tkd.net/</td>\n",
              "      <td>benign</td>\n",
              "    </tr>\n",
              "    <tr>\n",
              "      <th>345736</th>\n",
              "      <td>https://www.taekwondobible.com/</td>\n",
              "      <td>benign</td>\n",
              "    </tr>\n",
              "    <tr>\n",
              "      <th>345737</th>\n",
              "      <td>https://www.angelfire.com/mi2/540/</td>\n",
              "      <td>benign</td>\n",
              "    </tr>\n",
              "  </tbody>\n",
              "</table>\n",
              "<p>345738 rows × 2 columns</p>\n",
              "</div>\n",
              "    <div class=\"colab-df-buttons\">\n",
              "\n",
              "  <div class=\"colab-df-container\">\n",
              "    <button class=\"colab-df-convert\" onclick=\"convertToInteractive('df-cf05a59d-14ce-4f60-afa0-0f04aa3cf9e9')\"\n",
              "            title=\"Convert this dataframe to an interactive table.\"\n",
              "            style=\"display:none;\">\n",
              "\n",
              "  <svg xmlns=\"http://www.w3.org/2000/svg\" height=\"24px\" viewBox=\"0 -960 960 960\">\n",
              "    <path d=\"M120-120v-720h720v720H120Zm60-500h600v-160H180v160Zm220 220h160v-160H400v160Zm0 220h160v-160H400v160ZM180-400h160v-160H180v160Zm440 0h160v-160H620v160ZM180-180h160v-160H180v160Zm440 0h160v-160H620v160Z\"/>\n",
              "  </svg>\n",
              "    </button>\n",
              "\n",
              "  <style>\n",
              "    .colab-df-container {\n",
              "      display:flex;\n",
              "      gap: 12px;\n",
              "    }\n",
              "\n",
              "    .colab-df-convert {\n",
              "      background-color: #E8F0FE;\n",
              "      border: none;\n",
              "      border-radius: 50%;\n",
              "      cursor: pointer;\n",
              "      display: none;\n",
              "      fill: #1967D2;\n",
              "      height: 32px;\n",
              "      padding: 0 0 0 0;\n",
              "      width: 32px;\n",
              "    }\n",
              "\n",
              "    .colab-df-convert:hover {\n",
              "      background-color: #E2EBFA;\n",
              "      box-shadow: 0px 1px 2px rgba(60, 64, 67, 0.3), 0px 1px 3px 1px rgba(60, 64, 67, 0.15);\n",
              "      fill: #174EA6;\n",
              "    }\n",
              "\n",
              "    .colab-df-buttons div {\n",
              "      margin-bottom: 4px;\n",
              "    }\n",
              "\n",
              "    [theme=dark] .colab-df-convert {\n",
              "      background-color: #3B4455;\n",
              "      fill: #D2E3FC;\n",
              "    }\n",
              "\n",
              "    [theme=dark] .colab-df-convert:hover {\n",
              "      background-color: #434B5C;\n",
              "      box-shadow: 0px 1px 3px 1px rgba(0, 0, 0, 0.15);\n",
              "      filter: drop-shadow(0px 1px 2px rgba(0, 0, 0, 0.3));\n",
              "      fill: #FFFFFF;\n",
              "    }\n",
              "  </style>\n",
              "\n",
              "    <script>\n",
              "      const buttonEl =\n",
              "        document.querySelector('#df-cf05a59d-14ce-4f60-afa0-0f04aa3cf9e9 button.colab-df-convert');\n",
              "      buttonEl.style.display =\n",
              "        google.colab.kernel.accessAllowed ? 'block' : 'none';\n",
              "\n",
              "      async function convertToInteractive(key) {\n",
              "        const element = document.querySelector('#df-cf05a59d-14ce-4f60-afa0-0f04aa3cf9e9');\n",
              "        const dataTable =\n",
              "          await google.colab.kernel.invokeFunction('convertToInteractive',\n",
              "                                                    [key], {});\n",
              "        if (!dataTable) return;\n",
              "\n",
              "        const docLinkHtml = 'Like what you see? Visit the ' +\n",
              "          '<a target=\"_blank\" href=https://colab.research.google.com/notebooks/data_table.ipynb>data table notebook</a>'\n",
              "          + ' to learn more about interactive tables.';\n",
              "        element.innerHTML = '';\n",
              "        dataTable['output_type'] = 'display_data';\n",
              "        await google.colab.output.renderOutput(dataTable, element);\n",
              "        const docLink = document.createElement('div');\n",
              "        docLink.innerHTML = docLinkHtml;\n",
              "        element.appendChild(docLink);\n",
              "      }\n",
              "    </script>\n",
              "  </div>\n",
              "\n",
              "\n",
              "<div id=\"df-7a531b37-06a9-4b2f-81db-ff4c8cc6b328\">\n",
              "  <button class=\"colab-df-quickchart\" onclick=\"quickchart('df-7a531b37-06a9-4b2f-81db-ff4c8cc6b328')\"\n",
              "            title=\"Suggest charts.\"\n",
              "            style=\"display:none;\">\n",
              "\n",
              "<svg xmlns=\"http://www.w3.org/2000/svg\" height=\"24px\"viewBox=\"0 0 24 24\"\n",
              "     width=\"24px\">\n",
              "    <g>\n",
              "        <path d=\"M19 3H5c-1.1 0-2 .9-2 2v14c0 1.1.9 2 2 2h14c1.1 0 2-.9 2-2V5c0-1.1-.9-2-2-2zM9 17H7v-7h2v7zm4 0h-2V7h2v10zm4 0h-2v-4h2v4z\"/>\n",
              "    </g>\n",
              "</svg>\n",
              "  </button>\n",
              "\n",
              "<style>\n",
              "  .colab-df-quickchart {\n",
              "      --bg-color: #E8F0FE;\n",
              "      --fill-color: #1967D2;\n",
              "      --hover-bg-color: #E2EBFA;\n",
              "      --hover-fill-color: #174EA6;\n",
              "      --disabled-fill-color: #AAA;\n",
              "      --disabled-bg-color: #DDD;\n",
              "  }\n",
              "\n",
              "  [theme=dark] .colab-df-quickchart {\n",
              "      --bg-color: #3B4455;\n",
              "      --fill-color: #D2E3FC;\n",
              "      --hover-bg-color: #434B5C;\n",
              "      --hover-fill-color: #FFFFFF;\n",
              "      --disabled-bg-color: #3B4455;\n",
              "      --disabled-fill-color: #666;\n",
              "  }\n",
              "\n",
              "  .colab-df-quickchart {\n",
              "    background-color: var(--bg-color);\n",
              "    border: none;\n",
              "    border-radius: 50%;\n",
              "    cursor: pointer;\n",
              "    display: none;\n",
              "    fill: var(--fill-color);\n",
              "    height: 32px;\n",
              "    padding: 0;\n",
              "    width: 32px;\n",
              "  }\n",
              "\n",
              "  .colab-df-quickchart:hover {\n",
              "    background-color: var(--hover-bg-color);\n",
              "    box-shadow: 0 1px 2px rgba(60, 64, 67, 0.3), 0 1px 3px 1px rgba(60, 64, 67, 0.15);\n",
              "    fill: var(--button-hover-fill-color);\n",
              "  }\n",
              "\n",
              "  .colab-df-quickchart-complete:disabled,\n",
              "  .colab-df-quickchart-complete:disabled:hover {\n",
              "    background-color: var(--disabled-bg-color);\n",
              "    fill: var(--disabled-fill-color);\n",
              "    box-shadow: none;\n",
              "  }\n",
              "\n",
              "  .colab-df-spinner {\n",
              "    border: 2px solid var(--fill-color);\n",
              "    border-color: transparent;\n",
              "    border-bottom-color: var(--fill-color);\n",
              "    animation:\n",
              "      spin 1s steps(1) infinite;\n",
              "  }\n",
              "\n",
              "  @keyframes spin {\n",
              "    0% {\n",
              "      border-color: transparent;\n",
              "      border-bottom-color: var(--fill-color);\n",
              "      border-left-color: var(--fill-color);\n",
              "    }\n",
              "    20% {\n",
              "      border-color: transparent;\n",
              "      border-left-color: var(--fill-color);\n",
              "      border-top-color: var(--fill-color);\n",
              "    }\n",
              "    30% {\n",
              "      border-color: transparent;\n",
              "      border-left-color: var(--fill-color);\n",
              "      border-top-color: var(--fill-color);\n",
              "      border-right-color: var(--fill-color);\n",
              "    }\n",
              "    40% {\n",
              "      border-color: transparent;\n",
              "      border-right-color: var(--fill-color);\n",
              "      border-top-color: var(--fill-color);\n",
              "    }\n",
              "    60% {\n",
              "      border-color: transparent;\n",
              "      border-right-color: var(--fill-color);\n",
              "    }\n",
              "    80% {\n",
              "      border-color: transparent;\n",
              "      border-right-color: var(--fill-color);\n",
              "      border-bottom-color: var(--fill-color);\n",
              "    }\n",
              "    90% {\n",
              "      border-color: transparent;\n",
              "      border-bottom-color: var(--fill-color);\n",
              "    }\n",
              "  }\n",
              "</style>\n",
              "\n",
              "  <script>\n",
              "    async function quickchart(key) {\n",
              "      const quickchartButtonEl =\n",
              "        document.querySelector('#' + key + ' button');\n",
              "      quickchartButtonEl.disabled = true;  // To prevent multiple clicks.\n",
              "      quickchartButtonEl.classList.add('colab-df-spinner');\n",
              "      try {\n",
              "        const charts = await google.colab.kernel.invokeFunction(\n",
              "            'suggestCharts', [key], {});\n",
              "      } catch (error) {\n",
              "        console.error('Error during call to suggestCharts:', error);\n",
              "      }\n",
              "      quickchartButtonEl.classList.remove('colab-df-spinner');\n",
              "      quickchartButtonEl.classList.add('colab-df-quickchart-complete');\n",
              "    }\n",
              "    (() => {\n",
              "      let quickchartButtonEl =\n",
              "        document.querySelector('#df-7a531b37-06a9-4b2f-81db-ff4c8cc6b328 button');\n",
              "      quickchartButtonEl.style.display =\n",
              "        google.colab.kernel.accessAllowed ? 'block' : 'none';\n",
              "    })();\n",
              "  </script>\n",
              "</div>\n",
              "    </div>\n",
              "  </div>\n"
            ]
          },
          "metadata": {},
          "execution_count": 12
        }
      ]
    },
    {
      "cell_type": "code",
      "source": [
        "new = pd.concat([yong_mal, ka_be], ignore_index=True)\n",
        "new"
      ],
      "metadata": {
        "colab": {
          "base_uri": "https://localhost:8080/",
          "height": 424
        },
        "id": "b6YxN2anlznY",
        "outputId": "59020c7b-8ad7-431c-edcf-b4edaad02c3a"
      },
      "execution_count": 13,
      "outputs": [
        {
          "output_type": "execute_result",
          "data": {
            "text/plain": [
              "                                                      url     label  \\\n",
              "0              http://help-center320.crabdance.com/verify  phishing   \n",
              "1           https://bancolombia.com708792.repl.co/?fnet31  phishing   \n",
              "2            https://mpnce.jkhrs.pl/sub/email@example.com  phishing   \n",
              "3       https://mrtg.emailpartners.net/a/e/v0k3no?cid=...  phishing   \n",
              "4       https://sds-company.su/MynVOOUnjhbhsJqN&amp;mI...  phishing   \n",
              "...                                                   ...       ...   \n",
              "396280                   https://taekwondo.wisebytes.net/    benign   \n",
              "396281                       https://www.steveconway.net/    benign   \n",
              "396282                               https://www.tkd.net/    benign   \n",
              "396283                    https://www.taekwondobible.com/    benign   \n",
              "396284                 https://www.angelfire.com/mi2/540/    benign   \n",
              "\n",
              "        Unnamed: 0  result  \n",
              "0              NaN     NaN  \n",
              "1              NaN     NaN  \n",
              "2              NaN     NaN  \n",
              "3              NaN     NaN  \n",
              "4              NaN     NaN  \n",
              "...            ...     ...  \n",
              "396280    345733.0     0.0  \n",
              "396281    345734.0     0.0  \n",
              "396282    345735.0     0.0  \n",
              "396283    345736.0     0.0  \n",
              "396284    345737.0     0.0  \n",
              "\n",
              "[396285 rows x 4 columns]"
            ],
            "text/html": [
              "\n",
              "  <div id=\"df-fda3d132-e9f6-48f7-b617-f8372fa5d72b\" class=\"colab-df-container\">\n",
              "    <div>\n",
              "<style scoped>\n",
              "    .dataframe tbody tr th:only-of-type {\n",
              "        vertical-align: middle;\n",
              "    }\n",
              "\n",
              "    .dataframe tbody tr th {\n",
              "        vertical-align: top;\n",
              "    }\n",
              "\n",
              "    .dataframe thead th {\n",
              "        text-align: right;\n",
              "    }\n",
              "</style>\n",
              "<table border=\"1\" class=\"dataframe\">\n",
              "  <thead>\n",
              "    <tr style=\"text-align: right;\">\n",
              "      <th></th>\n",
              "      <th>url</th>\n",
              "      <th>label</th>\n",
              "      <th>Unnamed: 0</th>\n",
              "      <th>result</th>\n",
              "    </tr>\n",
              "  </thead>\n",
              "  <tbody>\n",
              "    <tr>\n",
              "      <th>0</th>\n",
              "      <td>http://help-center320.crabdance.com/verify</td>\n",
              "      <td>phishing</td>\n",
              "      <td>NaN</td>\n",
              "      <td>NaN</td>\n",
              "    </tr>\n",
              "    <tr>\n",
              "      <th>1</th>\n",
              "      <td>https://bancolombia.com708792.repl.co/?fnet31</td>\n",
              "      <td>phishing</td>\n",
              "      <td>NaN</td>\n",
              "      <td>NaN</td>\n",
              "    </tr>\n",
              "    <tr>\n",
              "      <th>2</th>\n",
              "      <td>https://mpnce.jkhrs.pl/sub/email@example.com</td>\n",
              "      <td>phishing</td>\n",
              "      <td>NaN</td>\n",
              "      <td>NaN</td>\n",
              "    </tr>\n",
              "    <tr>\n",
              "      <th>3</th>\n",
              "      <td>https://mrtg.emailpartners.net/a/e/v0k3no?cid=...</td>\n",
              "      <td>phishing</td>\n",
              "      <td>NaN</td>\n",
              "      <td>NaN</td>\n",
              "    </tr>\n",
              "    <tr>\n",
              "      <th>4</th>\n",
              "      <td>https://sds-company.su/MynVOOUnjhbhsJqN&amp;amp;mI...</td>\n",
              "      <td>phishing</td>\n",
              "      <td>NaN</td>\n",
              "      <td>NaN</td>\n",
              "    </tr>\n",
              "    <tr>\n",
              "      <th>...</th>\n",
              "      <td>...</td>\n",
              "      <td>...</td>\n",
              "      <td>...</td>\n",
              "      <td>...</td>\n",
              "    </tr>\n",
              "    <tr>\n",
              "      <th>396280</th>\n",
              "      <td>https://taekwondo.wisebytes.net/</td>\n",
              "      <td>benign</td>\n",
              "      <td>345733.0</td>\n",
              "      <td>0.0</td>\n",
              "    </tr>\n",
              "    <tr>\n",
              "      <th>396281</th>\n",
              "      <td>https://www.steveconway.net/</td>\n",
              "      <td>benign</td>\n",
              "      <td>345734.0</td>\n",
              "      <td>0.0</td>\n",
              "    </tr>\n",
              "    <tr>\n",
              "      <th>396282</th>\n",
              "      <td>https://www.tkd.net/</td>\n",
              "      <td>benign</td>\n",
              "      <td>345735.0</td>\n",
              "      <td>0.0</td>\n",
              "    </tr>\n",
              "    <tr>\n",
              "      <th>396283</th>\n",
              "      <td>https://www.taekwondobible.com/</td>\n",
              "      <td>benign</td>\n",
              "      <td>345736.0</td>\n",
              "      <td>0.0</td>\n",
              "    </tr>\n",
              "    <tr>\n",
              "      <th>396284</th>\n",
              "      <td>https://www.angelfire.com/mi2/540/</td>\n",
              "      <td>benign</td>\n",
              "      <td>345737.0</td>\n",
              "      <td>0.0</td>\n",
              "    </tr>\n",
              "  </tbody>\n",
              "</table>\n",
              "<p>396285 rows × 4 columns</p>\n",
              "</div>\n",
              "    <div class=\"colab-df-buttons\">\n",
              "\n",
              "  <div class=\"colab-df-container\">\n",
              "    <button class=\"colab-df-convert\" onclick=\"convertToInteractive('df-fda3d132-e9f6-48f7-b617-f8372fa5d72b')\"\n",
              "            title=\"Convert this dataframe to an interactive table.\"\n",
              "            style=\"display:none;\">\n",
              "\n",
              "  <svg xmlns=\"http://www.w3.org/2000/svg\" height=\"24px\" viewBox=\"0 -960 960 960\">\n",
              "    <path d=\"M120-120v-720h720v720H120Zm60-500h600v-160H180v160Zm220 220h160v-160H400v160Zm0 220h160v-160H400v160ZM180-400h160v-160H180v160Zm440 0h160v-160H620v160ZM180-180h160v-160H180v160Zm440 0h160v-160H620v160Z\"/>\n",
              "  </svg>\n",
              "    </button>\n",
              "\n",
              "  <style>\n",
              "    .colab-df-container {\n",
              "      display:flex;\n",
              "      gap: 12px;\n",
              "    }\n",
              "\n",
              "    .colab-df-convert {\n",
              "      background-color: #E8F0FE;\n",
              "      border: none;\n",
              "      border-radius: 50%;\n",
              "      cursor: pointer;\n",
              "      display: none;\n",
              "      fill: #1967D2;\n",
              "      height: 32px;\n",
              "      padding: 0 0 0 0;\n",
              "      width: 32px;\n",
              "    }\n",
              "\n",
              "    .colab-df-convert:hover {\n",
              "      background-color: #E2EBFA;\n",
              "      box-shadow: 0px 1px 2px rgba(60, 64, 67, 0.3), 0px 1px 3px 1px rgba(60, 64, 67, 0.15);\n",
              "      fill: #174EA6;\n",
              "    }\n",
              "\n",
              "    .colab-df-buttons div {\n",
              "      margin-bottom: 4px;\n",
              "    }\n",
              "\n",
              "    [theme=dark] .colab-df-convert {\n",
              "      background-color: #3B4455;\n",
              "      fill: #D2E3FC;\n",
              "    }\n",
              "\n",
              "    [theme=dark] .colab-df-convert:hover {\n",
              "      background-color: #434B5C;\n",
              "      box-shadow: 0px 1px 3px 1px rgba(0, 0, 0, 0.15);\n",
              "      filter: drop-shadow(0px 1px 2px rgba(0, 0, 0, 0.3));\n",
              "      fill: #FFFFFF;\n",
              "    }\n",
              "  </style>\n",
              "\n",
              "    <script>\n",
              "      const buttonEl =\n",
              "        document.querySelector('#df-fda3d132-e9f6-48f7-b617-f8372fa5d72b button.colab-df-convert');\n",
              "      buttonEl.style.display =\n",
              "        google.colab.kernel.accessAllowed ? 'block' : 'none';\n",
              "\n",
              "      async function convertToInteractive(key) {\n",
              "        const element = document.querySelector('#df-fda3d132-e9f6-48f7-b617-f8372fa5d72b');\n",
              "        const dataTable =\n",
              "          await google.colab.kernel.invokeFunction('convertToInteractive',\n",
              "                                                    [key], {});\n",
              "        if (!dataTable) return;\n",
              "\n",
              "        const docLinkHtml = 'Like what you see? Visit the ' +\n",
              "          '<a target=\"_blank\" href=https://colab.research.google.com/notebooks/data_table.ipynb>data table notebook</a>'\n",
              "          + ' to learn more about interactive tables.';\n",
              "        element.innerHTML = '';\n",
              "        dataTable['output_type'] = 'display_data';\n",
              "        await google.colab.output.renderOutput(dataTable, element);\n",
              "        const docLink = document.createElement('div');\n",
              "        docLink.innerHTML = docLinkHtml;\n",
              "        element.appendChild(docLink);\n",
              "      }\n",
              "    </script>\n",
              "  </div>\n",
              "\n",
              "\n",
              "<div id=\"df-52e2d09c-fbf4-41cf-a92e-c09d984f34e3\">\n",
              "  <button class=\"colab-df-quickchart\" onclick=\"quickchart('df-52e2d09c-fbf4-41cf-a92e-c09d984f34e3')\"\n",
              "            title=\"Suggest charts.\"\n",
              "            style=\"display:none;\">\n",
              "\n",
              "<svg xmlns=\"http://www.w3.org/2000/svg\" height=\"24px\"viewBox=\"0 0 24 24\"\n",
              "     width=\"24px\">\n",
              "    <g>\n",
              "        <path d=\"M19 3H5c-1.1 0-2 .9-2 2v14c0 1.1.9 2 2 2h14c1.1 0 2-.9 2-2V5c0-1.1-.9-2-2-2zM9 17H7v-7h2v7zm4 0h-2V7h2v10zm4 0h-2v-4h2v4z\"/>\n",
              "    </g>\n",
              "</svg>\n",
              "  </button>\n",
              "\n",
              "<style>\n",
              "  .colab-df-quickchart {\n",
              "      --bg-color: #E8F0FE;\n",
              "      --fill-color: #1967D2;\n",
              "      --hover-bg-color: #E2EBFA;\n",
              "      --hover-fill-color: #174EA6;\n",
              "      --disabled-fill-color: #AAA;\n",
              "      --disabled-bg-color: #DDD;\n",
              "  }\n",
              "\n",
              "  [theme=dark] .colab-df-quickchart {\n",
              "      --bg-color: #3B4455;\n",
              "      --fill-color: #D2E3FC;\n",
              "      --hover-bg-color: #434B5C;\n",
              "      --hover-fill-color: #FFFFFF;\n",
              "      --disabled-bg-color: #3B4455;\n",
              "      --disabled-fill-color: #666;\n",
              "  }\n",
              "\n",
              "  .colab-df-quickchart {\n",
              "    background-color: var(--bg-color);\n",
              "    border: none;\n",
              "    border-radius: 50%;\n",
              "    cursor: pointer;\n",
              "    display: none;\n",
              "    fill: var(--fill-color);\n",
              "    height: 32px;\n",
              "    padding: 0;\n",
              "    width: 32px;\n",
              "  }\n",
              "\n",
              "  .colab-df-quickchart:hover {\n",
              "    background-color: var(--hover-bg-color);\n",
              "    box-shadow: 0 1px 2px rgba(60, 64, 67, 0.3), 0 1px 3px 1px rgba(60, 64, 67, 0.15);\n",
              "    fill: var(--button-hover-fill-color);\n",
              "  }\n",
              "\n",
              "  .colab-df-quickchart-complete:disabled,\n",
              "  .colab-df-quickchart-complete:disabled:hover {\n",
              "    background-color: var(--disabled-bg-color);\n",
              "    fill: var(--disabled-fill-color);\n",
              "    box-shadow: none;\n",
              "  }\n",
              "\n",
              "  .colab-df-spinner {\n",
              "    border: 2px solid var(--fill-color);\n",
              "    border-color: transparent;\n",
              "    border-bottom-color: var(--fill-color);\n",
              "    animation:\n",
              "      spin 1s steps(1) infinite;\n",
              "  }\n",
              "\n",
              "  @keyframes spin {\n",
              "    0% {\n",
              "      border-color: transparent;\n",
              "      border-bottom-color: var(--fill-color);\n",
              "      border-left-color: var(--fill-color);\n",
              "    }\n",
              "    20% {\n",
              "      border-color: transparent;\n",
              "      border-left-color: var(--fill-color);\n",
              "      border-top-color: var(--fill-color);\n",
              "    }\n",
              "    30% {\n",
              "      border-color: transparent;\n",
              "      border-left-color: var(--fill-color);\n",
              "      border-top-color: var(--fill-color);\n",
              "      border-right-color: var(--fill-color);\n",
              "    }\n",
              "    40% {\n",
              "      border-color: transparent;\n",
              "      border-right-color: var(--fill-color);\n",
              "      border-top-color: var(--fill-color);\n",
              "    }\n",
              "    60% {\n",
              "      border-color: transparent;\n",
              "      border-right-color: var(--fill-color);\n",
              "    }\n",
              "    80% {\n",
              "      border-color: transparent;\n",
              "      border-right-color: var(--fill-color);\n",
              "      border-bottom-color: var(--fill-color);\n",
              "    }\n",
              "    90% {\n",
              "      border-color: transparent;\n",
              "      border-bottom-color: var(--fill-color);\n",
              "    }\n",
              "  }\n",
              "</style>\n",
              "\n",
              "  <script>\n",
              "    async function quickchart(key) {\n",
              "      const quickchartButtonEl =\n",
              "        document.querySelector('#' + key + ' button');\n",
              "      quickchartButtonEl.disabled = true;  // To prevent multiple clicks.\n",
              "      quickchartButtonEl.classList.add('colab-df-spinner');\n",
              "      try {\n",
              "        const charts = await google.colab.kernel.invokeFunction(\n",
              "            'suggestCharts', [key], {});\n",
              "      } catch (error) {\n",
              "        console.error('Error during call to suggestCharts:', error);\n",
              "      }\n",
              "      quickchartButtonEl.classList.remove('colab-df-spinner');\n",
              "      quickchartButtonEl.classList.add('colab-df-quickchart-complete');\n",
              "    }\n",
              "    (() => {\n",
              "      let quickchartButtonEl =\n",
              "        document.querySelector('#df-52e2d09c-fbf4-41cf-a92e-c09d984f34e3 button');\n",
              "      quickchartButtonEl.style.display =\n",
              "        google.colab.kernel.accessAllowed ? 'block' : 'none';\n",
              "    })();\n",
              "  </script>\n",
              "</div>\n",
              "    </div>\n",
              "  </div>\n"
            ]
          },
          "metadata": {},
          "execution_count": 13
        }
      ]
    },
    {
      "cell_type": "code",
      "source": [
        "new[new.duplicated('url') == True]\n",
        "new.drop_duplicates('url', inplace = True)"
      ],
      "metadata": {
        "id": "LfVBCLFdmFeE"
      },
      "execution_count": 17,
      "outputs": []
    },
    {
      "cell_type": "code",
      "source": [
        "new = new.replace(np.nan,0)"
      ],
      "metadata": {
        "id": "Bn0HqcFMmSOe"
      },
      "execution_count": 18,
      "outputs": []
    },
    {
      "cell_type": "code",
      "source": [
        "target_col = 'label'\n",
        "y = new[[target_col]]\n",
        "X = new[['url_length', 'hostname_length', 'path_length',\n",
        "       'tld_length', 'count -', 'count @', 'count ?', 'count %', 'count .',\n",
        "       'count =', 'count http', 'count https', 'count www', 'count /',\n",
        "       'count //', 'count-digits', 'count-letters', 'count_dir', 'use_of_ip',\n",
        "       'short_url', 'url_has_file', 'url_has_email', 'len_Domain_ratio',\n",
        "       'len_Path_ratio', 'len_Params_ratio', 'len_Query_ratio',\n",
        "       'len_Fragment_ratio', 'suspicious_word', 'entropy', 'use_https',\n",
        "       'use_http']]\n",
        "ttrain_X, ttest_X, ttrain_y, ttest_y = train_test_split(X, y, test_size=0.3, random_state=42)"
      ],
      "metadata": {
        "id": "bZCCXS8ZmeYS",
        "colab": {
          "base_uri": "https://localhost:8080/",
          "height": 447
        },
        "outputId": "aacfc96d-7b86-4b9b-df21-05bb8943671e"
      },
      "execution_count": 19,
      "outputs": [
        {
          "output_type": "error",
          "ename": "KeyError",
          "evalue": "ignored",
          "traceback": [
            "\u001b[0;31m---------------------------------------------------------------------------\u001b[0m",
            "\u001b[0;31mKeyError\u001b[0m                                  Traceback (most recent call last)",
            "\u001b[0;32m<ipython-input-19-65d21a1b5290>\u001b[0m in \u001b[0;36m<cell line: 3>\u001b[0;34m()\u001b[0m\n\u001b[1;32m      1\u001b[0m \u001b[0mtarget_col\u001b[0m \u001b[0;34m=\u001b[0m \u001b[0;34m'label'\u001b[0m\u001b[0;34m\u001b[0m\u001b[0;34m\u001b[0m\u001b[0m\n\u001b[1;32m      2\u001b[0m \u001b[0my\u001b[0m \u001b[0;34m=\u001b[0m \u001b[0mnew\u001b[0m\u001b[0;34m[\u001b[0m\u001b[0;34m[\u001b[0m\u001b[0mtarget_col\u001b[0m\u001b[0;34m]\u001b[0m\u001b[0;34m]\u001b[0m\u001b[0;34m\u001b[0m\u001b[0;34m\u001b[0m\u001b[0m\n\u001b[0;32m----> 3\u001b[0;31m X = new[['url_length', 'hostname_length', 'path_length',\n\u001b[0m\u001b[1;32m      4\u001b[0m        \u001b[0;34m'tld_length'\u001b[0m\u001b[0;34m,\u001b[0m \u001b[0;34m'count -'\u001b[0m\u001b[0;34m,\u001b[0m \u001b[0;34m'count @'\u001b[0m\u001b[0;34m,\u001b[0m \u001b[0;34m'count ?'\u001b[0m\u001b[0;34m,\u001b[0m \u001b[0;34m'count %'\u001b[0m\u001b[0;34m,\u001b[0m \u001b[0;34m'count .'\u001b[0m\u001b[0;34m,\u001b[0m\u001b[0;34m\u001b[0m\u001b[0;34m\u001b[0m\u001b[0m\n\u001b[1;32m      5\u001b[0m        \u001b[0;34m'count ='\u001b[0m\u001b[0;34m,\u001b[0m \u001b[0;34m'count http'\u001b[0m\u001b[0;34m,\u001b[0m \u001b[0;34m'count https'\u001b[0m\u001b[0;34m,\u001b[0m \u001b[0;34m'count www'\u001b[0m\u001b[0;34m,\u001b[0m \u001b[0;34m'count /'\u001b[0m\u001b[0;34m,\u001b[0m\u001b[0;34m\u001b[0m\u001b[0;34m\u001b[0m\u001b[0m\n",
            "\u001b[0;32m/usr/local/lib/python3.10/dist-packages/pandas/core/frame.py\u001b[0m in \u001b[0;36m__getitem__\u001b[0;34m(self, key)\u001b[0m\n\u001b[1;32m   3811\u001b[0m             \u001b[0;32mif\u001b[0m \u001b[0mis_iterator\u001b[0m\u001b[0;34m(\u001b[0m\u001b[0mkey\u001b[0m\u001b[0;34m)\u001b[0m\u001b[0;34m:\u001b[0m\u001b[0;34m\u001b[0m\u001b[0;34m\u001b[0m\u001b[0m\n\u001b[1;32m   3812\u001b[0m                 \u001b[0mkey\u001b[0m \u001b[0;34m=\u001b[0m \u001b[0mlist\u001b[0m\u001b[0;34m(\u001b[0m\u001b[0mkey\u001b[0m\u001b[0;34m)\u001b[0m\u001b[0;34m\u001b[0m\u001b[0;34m\u001b[0m\u001b[0m\n\u001b[0;32m-> 3813\u001b[0;31m             \u001b[0mindexer\u001b[0m \u001b[0;34m=\u001b[0m \u001b[0mself\u001b[0m\u001b[0;34m.\u001b[0m\u001b[0mcolumns\u001b[0m\u001b[0;34m.\u001b[0m\u001b[0m_get_indexer_strict\u001b[0m\u001b[0;34m(\u001b[0m\u001b[0mkey\u001b[0m\u001b[0;34m,\u001b[0m \u001b[0;34m\"columns\"\u001b[0m\u001b[0;34m)\u001b[0m\u001b[0;34m[\u001b[0m\u001b[0;36m1\u001b[0m\u001b[0;34m]\u001b[0m\u001b[0;34m\u001b[0m\u001b[0;34m\u001b[0m\u001b[0m\n\u001b[0m\u001b[1;32m   3814\u001b[0m \u001b[0;34m\u001b[0m\u001b[0m\n\u001b[1;32m   3815\u001b[0m         \u001b[0;31m# take() does not accept boolean indexers\u001b[0m\u001b[0;34m\u001b[0m\u001b[0;34m\u001b[0m\u001b[0m\n",
            "\u001b[0;32m/usr/local/lib/python3.10/dist-packages/pandas/core/indexes/base.py\u001b[0m in \u001b[0;36m_get_indexer_strict\u001b[0;34m(self, key, axis_name)\u001b[0m\n\u001b[1;32m   6068\u001b[0m             \u001b[0mkeyarr\u001b[0m\u001b[0;34m,\u001b[0m \u001b[0mindexer\u001b[0m\u001b[0;34m,\u001b[0m \u001b[0mnew_indexer\u001b[0m \u001b[0;34m=\u001b[0m \u001b[0mself\u001b[0m\u001b[0;34m.\u001b[0m\u001b[0m_reindex_non_unique\u001b[0m\u001b[0;34m(\u001b[0m\u001b[0mkeyarr\u001b[0m\u001b[0;34m)\u001b[0m\u001b[0;34m\u001b[0m\u001b[0;34m\u001b[0m\u001b[0m\n\u001b[1;32m   6069\u001b[0m \u001b[0;34m\u001b[0m\u001b[0m\n\u001b[0;32m-> 6070\u001b[0;31m         \u001b[0mself\u001b[0m\u001b[0;34m.\u001b[0m\u001b[0m_raise_if_missing\u001b[0m\u001b[0;34m(\u001b[0m\u001b[0mkeyarr\u001b[0m\u001b[0;34m,\u001b[0m \u001b[0mindexer\u001b[0m\u001b[0;34m,\u001b[0m \u001b[0maxis_name\u001b[0m\u001b[0;34m)\u001b[0m\u001b[0;34m\u001b[0m\u001b[0;34m\u001b[0m\u001b[0m\n\u001b[0m\u001b[1;32m   6071\u001b[0m \u001b[0;34m\u001b[0m\u001b[0m\n\u001b[1;32m   6072\u001b[0m         \u001b[0mkeyarr\u001b[0m \u001b[0;34m=\u001b[0m \u001b[0mself\u001b[0m\u001b[0;34m.\u001b[0m\u001b[0mtake\u001b[0m\u001b[0;34m(\u001b[0m\u001b[0mindexer\u001b[0m\u001b[0;34m)\u001b[0m\u001b[0;34m\u001b[0m\u001b[0;34m\u001b[0m\u001b[0m\n",
            "\u001b[0;32m/usr/local/lib/python3.10/dist-packages/pandas/core/indexes/base.py\u001b[0m in \u001b[0;36m_raise_if_missing\u001b[0;34m(self, key, indexer, axis_name)\u001b[0m\n\u001b[1;32m   6128\u001b[0m                 \u001b[0;32mif\u001b[0m \u001b[0muse_interval_msg\u001b[0m\u001b[0;34m:\u001b[0m\u001b[0;34m\u001b[0m\u001b[0;34m\u001b[0m\u001b[0m\n\u001b[1;32m   6129\u001b[0m                     \u001b[0mkey\u001b[0m \u001b[0;34m=\u001b[0m \u001b[0mlist\u001b[0m\u001b[0;34m(\u001b[0m\u001b[0mkey\u001b[0m\u001b[0;34m)\u001b[0m\u001b[0;34m\u001b[0m\u001b[0;34m\u001b[0m\u001b[0m\n\u001b[0;32m-> 6130\u001b[0;31m                 \u001b[0;32mraise\u001b[0m \u001b[0mKeyError\u001b[0m\u001b[0;34m(\u001b[0m\u001b[0;34mf\"None of [{key}] are in the [{axis_name}]\"\u001b[0m\u001b[0;34m)\u001b[0m\u001b[0;34m\u001b[0m\u001b[0;34m\u001b[0m\u001b[0m\n\u001b[0m\u001b[1;32m   6131\u001b[0m \u001b[0;34m\u001b[0m\u001b[0m\n\u001b[1;32m   6132\u001b[0m             \u001b[0mnot_found\u001b[0m \u001b[0;34m=\u001b[0m \u001b[0mlist\u001b[0m\u001b[0;34m(\u001b[0m\u001b[0mensure_index\u001b[0m\u001b[0;34m(\u001b[0m\u001b[0mkey\u001b[0m\u001b[0;34m)\u001b[0m\u001b[0;34m[\u001b[0m\u001b[0mmissing_mask\u001b[0m\u001b[0;34m.\u001b[0m\u001b[0mnonzero\u001b[0m\u001b[0;34m(\u001b[0m\u001b[0;34m)\u001b[0m\u001b[0;34m[\u001b[0m\u001b[0;36m0\u001b[0m\u001b[0;34m]\u001b[0m\u001b[0;34m]\u001b[0m\u001b[0;34m.\u001b[0m\u001b[0munique\u001b[0m\u001b[0;34m(\u001b[0m\u001b[0;34m)\u001b[0m\u001b[0;34m)\u001b[0m\u001b[0;34m\u001b[0m\u001b[0;34m\u001b[0m\u001b[0m\n",
            "\u001b[0;31mKeyError\u001b[0m: \"None of [Index(['url_length', 'hostname_length', 'path_length', 'tld_length', 'count -',\\n       'count @', 'count ?', 'count %', 'count .', 'count =', 'count http',\\n       'count https', 'count www', 'count /', 'count //', 'count-digits',\\n       'count-letters', 'count_dir', 'use_of_ip', 'short_url', 'url_has_file',\\n       'url_has_email', 'len_Domain_ratio', 'len_Path_ratio',\\n       'len_Params_ratio', 'len_Query_ratio', 'len_Fragment_ratio',\\n       'suspicious_word', 'entropy', 'use_https', 'use_http'],\\n      dtype='object')] are in the [columns]\""
          ]
        }
      ]
    },
    {
      "cell_type": "code",
      "source": [
        "from sklearn.preprocessing import StandardScaler\n",
        "\n",
        "scaler = StandardScaler()\n",
        "ttrain_X = scaler.fit_transform(ttrain_X)\n",
        "ttest_X = scaler.fit_transform(ttest_X)"
      ],
      "metadata": {
        "id": "xkwmWNI5mZ9B"
      },
      "execution_count": null,
      "outputs": []
    },
    {
      "cell_type": "code",
      "source": [
        "%%time\n",
        "\n",
        "model = SVC(kernel = 'linear' , probability = True, random_state = 42 , decision_function_shape = 'ovr') # linear 커널 사용\n",
        "# model = SVC(kernel = 'linear' ,prob2ability = True, random_state = 42)\n",
        "result = model.fit(ttrain_X, ttrain_y)\n",
        "print(result.score(ttrain_X,ttrain_y))"
      ],
      "metadata": {
        "id": "IrCHtxgUmdak",
        "outputId": "8d2b90f6-6f9e-44dc-bb7d-34178b9ddfde",
        "colab": {
          "base_uri": "https://localhost:8080/"
        }
      },
      "execution_count": null,
      "outputs": [
        {
          "output_type": "stream",
          "name": "stderr",
          "text": [
            "/usr/local/lib/python3.10/dist-packages/sklearn/utils/validation.py:1143: DataConversionWarning: A column-vector y was passed when a 1d array was expected. Please change the shape of y to (n_samples, ), for example using ravel().\n",
            "  y = column_or_1d(y, warn=True)\n"
          ]
        },
        {
          "output_type": "stream",
          "name": "stdout",
          "text": [
            "0.9864666100003696\n",
            "CPU times: user 4h 16min 56s, sys: 18.4 s, total: 4h 17min 14s\n",
            "Wall time: 4h 18min 4s\n"
          ]
        }
      ]
    },
    {
      "cell_type": "code",
      "source": [
        "y_pred = result.predict(ttest_X)\n",
        "accuracy = accuracy_score(ttest_y, y_pred)\n",
        "accuracy"
      ],
      "metadata": {
        "id": "qIRYhSlHmnkn",
        "colab": {
          "base_uri": "https://localhost:8080/"
        },
        "outputId": "e20f34db-7f83-43c6-d5c7-86e00e390e8f"
      },
      "execution_count": null,
      "outputs": [
        {
          "output_type": "execute_result",
          "data": {
            "text/plain": [
              "0.9863841749448123"
            ]
          },
          "metadata": {},
          "execution_count": 20
        }
      ]
    },
    {
      "cell_type": "code",
      "source": [
        "from sklearn.metrics import confusion_matrix\n",
        "import seaborn as sns\n",
        "import matplotlib.pyplot as plt\n",
        "\n",
        "cf = confusion_matrix(ttest_y, y_pred , labels = [\"benign\", \"phishing\",\"malware\",\"defacement\"])\n",
        "print(cf)\n",
        "\n",
        "# Seaborn을 사용하여 혼동 행렬 시각화\n",
        "plt.figure(figsize=(8, 6))\n",
        "sns.set(font_scale=1.2)  # 폰트 크기 설정\n",
        "\n",
        "# 혼동 행렬 히트맵 생성\n",
        "sns.heatmap(cf, annot=True, fmt=\"d\", cmap=\"Blues\", xticklabels=[\"benign\",\"phishing\",\"malware\",\"defacement\"],\n",
        "            yticklabels=[\"benign\",\"phishing\",\"malware\",\"defacement\"])\n",
        "\n",
        "# 플롯에 제목 추가\n",
        "plt.title(\"Confusion Matrix\")\n",
        "\n",
        "# x축 및 y축 레이블 추가\n",
        "plt.xlabel(\"Predicted\")\n",
        "plt.ylabel(\"Actual\")\n",
        "\n",
        "# 플롯 표시\n",
        "plt.show()"
      ],
      "metadata": {
        "id": "vRmlC6uAmn_F",
        "colab": {
          "base_uri": "https://localhost:8080/",
          "height": 651
        },
        "outputId": "2b91da33-34eb-48c8-aafb-826819c6cd00"
      },
      "execution_count": null,
      "outputs": [
        {
          "output_type": "stream",
          "name": "stdout",
          "text": [
            "[[103543    192      7      0]\n",
            " [   151   3086     89     83]\n",
            " [    12    268   4020     62]\n",
            " [     0     26      0   3473]]\n"
          ]
        },
        {
          "output_type": "display_data",
          "data": {
            "text/plain": [
              "<Figure size 800x600 with 2 Axes>"
            ],
            "image/png": "[encoded data removed]"
          },
          "metadata": {}
        }
      ]
    },
    {
      "cell_type": "code",
      "source": [
        "test = pd.DataFrame({'url': ['www.naver.com','https://www.naver.com/', 'https://www.youtube.com/watch?v=cJ15o438hww', 'https://cyber.sogang.ac.kr/ilos/main/main_form.acl','https://sogang.ac.kr/index.do','google.com','https://www.hoseo.ac.kr/Home/Main.mbz', 'https://discord.com/','https://learn.hoseo.ac.kr/']})\n",
        "test = feature_extract(test)\n",
        "y_pred=model.predict(test[['url_length', 'hostname_length', 'path_length',\n",
        "       'tld_length', 'count -', 'count @', 'count ?', 'count %', 'count .',\n",
        "       'count =', 'count http', 'count https', 'count www', 'count /',\n",
        "       'count //', 'count-digits', 'count-letters', 'count_dir', 'use_of_ip',\n",
        "       'short_url', 'url_has_file', 'url_has_email', 'len_Domain_ratio',\n",
        "       'len_Path_ratio', 'len_Params_ratio', 'len_Query_ratio',\n",
        "       'len_Fragment_ratio', 'suspicious_word', 'entropy', 'use_https',\n",
        "       'use_http']])\n",
        "y_pred"
      ],
      "metadata": {
        "id": "EGyZoMUvmn58",
        "colab": {
          "base_uri": "https://localhost:8080/"
        },
        "outputId": "a2c53d75-7b17-4955-ce7e-636dc1895aef"
      },
      "execution_count": null,
      "outputs": [
        {
          "output_type": "stream",
          "name": "stderr",
          "text": [
            "/usr/local/lib/python3.10/dist-packages/sklearn/base.py:432: UserWarning: X has feature names, but SVC was fitted without feature names\n",
            "  warnings.warn(\n"
          ]
        },
        {
          "output_type": "execute_result",
          "data": {
            "text/plain": [
              "array(['benign', 'benign', 'benign', 'benign', 'benign', 'benign',\n",
              "       'benign', 'benign', 'malware'], dtype=object)"
            ]
          },
          "metadata": {},
          "execution_count": 22
        }
      ]
    },
    {
      "cell_type": "code",
      "source": [
        "import shap\n",
        "explainer = shap.TreeExplainer(model)\n",
        "shap_values = explainer.shap_values(X)\n",
        "\n",
        "# 특정 예제에 대한 SHAP 요약 그래프 플로팅\n",
        "shap.summary_plot(shap_values, X)"
      ],
      "metadata": {
        "id": "P3iDMV6F5opM"
      },
      "execution_count": null,
      "outputs": []
    },
    {
      "cell_type": "markdown",
      "source": [
        "## 데이터셋에서 악성 부분 늘려서 해보기"
      ],
      "metadata": {
        "id": "AFJpXAdbpDs5"
      }
    },
    {
      "cell_type": "code",
      "source": [
        "de = pd.read_csv(colab_path + 'ISCX/' + 'iscx_defacement_good.csv')\n",
        "mal = pd.read_csv(colab_path + 'URLhaus/' + 'URLhaus_good.csv')\n",
        "phi = pd.read_csv(colab_path+'Phishtank/'+'Phishtank_good.csv')"
      ],
      "metadata": {
        "id": "1j1V8NwPpEaT"
      },
      "execution_count": 14,
      "outputs": []
    },
    {
      "cell_type": "code",
      "source": [
        "de.drop(columns=['Unnamed: 0'],axis=1,inplace=True)\n",
        "mal.drop(columns=['Unnamed: 0'],axis=1,inplace=True)\n",
        "phi.drop(columns=['Unnamed: 0'],axis=1,inplace=True)"
      ],
      "metadata": {
        "id": "JnvAvihaqEjI"
      },
      "execution_count": 15,
      "outputs": []
    },
    {
      "cell_type": "code",
      "source": [
        "de = de.sample(frac = 0.7, replace = True)\n",
        "phi = phi.sample(frac = 0.7, replace = True)"
      ],
      "metadata": {
        "id": "5iY1cTkHqmpd"
      },
      "execution_count": 16,
      "outputs": []
    },
    {
      "cell_type": "code",
      "source": [
        "neww = new\n",
        "\n",
        "neww = pd.concat([new,de,mal,phi], ignore_index=True)"
      ],
      "metadata": {
        "id": "-6sXkce8rmWK"
      },
      "execution_count": 17,
      "outputs": []
    },
    {
      "cell_type": "code",
      "source": [
        "neww[neww.duplicated('url') == True]\n",
        "neww.drop_duplicates('url',inplace = True)"
      ],
      "metadata": {
        "id": "J6cOyyojvbw_"
      },
      "execution_count": 18,
      "outputs": []
    },
    {
      "cell_type": "code",
      "source": [
        "print(len(neww[neww['label'] == 'benign']))\n",
        "print(len(neww[neww['label'] == 'defacement']))\n",
        "print(len(neww[neww['label'] == 'phishing']))\n",
        "print(len(neww[neww['label'] == 'malware']))"
      ],
      "metadata": {
        "colab": {
          "base_uri": "https://localhost:8080/"
        },
        "id": "vwd-Gr2KvtIJ",
        "outputId": "a406012a-64fa-4a02-aaf7-460e314d5b9b"
      },
      "execution_count": 19,
      "outputs": [
        {
          "output_type": "stream",
          "name": "stdout",
          "text": [
            "345737\n",
            "53889\n",
            "52812\n",
            "57478\n"
          ]
        }
      ]
    },
    {
      "cell_type": "code",
      "source": [],
      "metadata": {
        "id": "ul2pABGu6CtU"
      },
      "execution_count": null,
      "outputs": []
    },
    {
      "cell_type": "code",
      "source": [],
      "metadata": {
        "id": "wClySsrKA6PC"
      },
      "execution_count": null,
      "outputs": []
    },
    {
      "cell_type": "code",
      "source": [],
      "metadata": {
        "id": "IqF4oKpDHxrs"
      },
      "execution_count": null,
      "outputs": []
    },
    {
      "cell_type": "code",
      "source": [],
      "metadata": {
        "id": "Kd6GQTR-qG4Q"
      },
      "execution_count": null,
      "outputs": []
    },
    {
      "cell_type": "code",
      "source": [],
      "metadata": {
        "id": "uHsBZZkww-Vg"
      },
      "execution_count": null,
      "outputs": []
    },
    {
      "cell_type": "code",
      "source": [],
      "metadata": {
        "id": "FY5xeXGt31ye"
      },
      "execution_count": null,
      "outputs": []
    },
    {
      "cell_type": "code",
      "source": [],
      "metadata": {
        "id": "NtowNYT2-tP4"
      },
      "execution_count": null,
      "outputs": []
    },
    {
      "cell_type": "code",
      "source": [],
      "metadata": {
        "id": "W8P9mAwSFksR"
      },
      "execution_count": null,
      "outputs": []
    },
    {
      "cell_type": "code",
      "source": [],
      "metadata": {
        "id": "re5ASInZMcJs"
      },
      "execution_count": null,
      "outputs": []
    },
    {
      "cell_type": "code",
      "source": [],
      "metadata": {
        "id": "uBQEskjkTTmy"
      },
      "execution_count": null,
      "outputs": []
    },
    {
      "cell_type": "code",
      "source": [],
      "metadata": {
        "id": "hFwvKc6zaLDd"
      },
      "execution_count": null,
      "outputs": []
    },
    {
      "cell_type": "code",
      "source": [],
      "metadata": {
        "id": "dvIT4VI9hCgn"
      },
      "execution_count": null,
      "outputs": []
    },
    {
      "cell_type": "code",
      "source": [],
      "metadata": {
        "id": "tjf0fNmFn59q"
      },
      "execution_count": null,
      "outputs": []
    },
    {
      "cell_type": "code",
      "source": [],
      "metadata": {
        "id": "Ck9rKGlEuxay"
      },
      "execution_count": null,
      "outputs": []
    },
    {
      "cell_type": "code",
      "source": [],
      "metadata": {
        "id": "9Qjx0Ajq1o3j"
      },
      "execution_count": null,
      "outputs": []
    },
    {
      "cell_type": "code",
      "source": [],
      "metadata": {
        "id": "zdIheonR8gUT"
      },
      "execution_count": null,
      "outputs": []
    },
    {
      "cell_type": "code",
      "source": [],
      "metadata": {
        "id": "qbP6RHiXDXxR"
      },
      "execution_count": null,
      "outputs": []
    },
    {
      "cell_type": "code",
      "source": [],
      "metadata": {
        "id": "XAiECX6TKPOu"
      },
      "execution_count": null,
      "outputs": []
    },
    {
      "cell_type": "code",
      "source": [],
      "metadata": {
        "id": "VqjWbe01RGru"
      },
      "execution_count": null,
      "outputs": []
    },
    {
      "cell_type": "code",
      "source": [],
      "metadata": {
        "id": "rXRJCvZaX-Iq"
      },
      "execution_count": null,
      "outputs": []
    },
    {
      "cell_type": "code",
      "source": [],
      "metadata": {
        "id": "bU8F4m-Ke1lx"
      },
      "execution_count": null,
      "outputs": []
    },
    {
      "cell_type": "code",
      "source": [],
      "metadata": {
        "id": "KEoufviBltCq"
      },
      "execution_count": null,
      "outputs": []
    },
    {
      "cell_type": "code",
      "source": [],
      "metadata": {
        "id": "vvbZOAEdOpIp"
      },
      "execution_count": null,
      "outputs": []
    },
    {
      "cell_type": "code",
      "source": [],
      "metadata": {
        "id": "f11kjKHmVghi"
      },
      "execution_count": null,
      "outputs": []
    },
    {
      "cell_type": "code",
      "source": [],
      "metadata": {
        "id": "O0wtcN8lcX-g"
      },
      "execution_count": null,
      "outputs": []
    },
    {
      "cell_type": "code",
      "source": [],
      "metadata": {
        "id": "3brwRgbSjPbi"
      },
      "execution_count": null,
      "outputs": []
    },
    {
      "cell_type": "code",
      "source": [
        "neww.drop(columns = ['Unnamed: 0','result'],axis=1,inplace=True)"
      ],
      "metadata": {
        "id": "zLbCYZSVwKLt"
      },
      "execution_count": 20,
      "outputs": []
    },
    {
      "cell_type": "code",
      "source": [
        "neww = feature_extract(neww)"
      ],
      "metadata": {
        "id": "uxhRElwIw5YO"
      },
      "execution_count": 21,
      "outputs": []
    },
    {
      "cell_type": "code",
      "source": [
        "neww = neww.replace(np.nan,0)"
      ],
      "metadata": {
        "id": "ssASFilJ3fdg"
      },
      "execution_count": 22,
      "outputs": []
    },
    {
      "cell_type": "code",
      "source": [
        "target_col = 'label'\n",
        "y = neww[[target_col]]\n",
        "X = neww[['url_length', 'hostname_length', 'path_length',\n",
        "       'tld_length', 'count -', 'count @', 'count ?', 'count %', 'count .',\n",
        "       'count =', 'count http', 'count https', 'count www', 'count /',\n",
        "       'count //', 'count-digits', 'count-letters', 'count_dir', 'use_of_ip',\n",
        "       'short_url', 'url_has_file', 'url_has_email', 'len_Domain_ratio',\n",
        "       'len_Path_ratio', 'len_Params_ratio', 'len_Query_ratio',\n",
        "       'len_Fragment_ratio', 'suspicious_word', 'entropy', 'use_https',\n",
        "       'use_http']]\n",
        "ttrain_X, ttest_X, ttrain_y, ttest_y = train_test_split(X, y, test_size=0.3, random_state=42)"
      ],
      "metadata": {
        "id": "CXkV9xAiwj7l"
      },
      "execution_count": 23,
      "outputs": []
    },
    {
      "cell_type": "code",
      "source": [
        "from sklearn.preprocessing import StandardScaler\n",
        "\n",
        "scaler = StandardScaler()\n",
        "ttrain_X = scaler.fit_transform(ttrain_X)\n",
        "ttest_X = scaler.fit_transform(ttest_X)"
      ],
      "metadata": {
        "id": "ZYTzYVCvwj5S"
      },
      "execution_count": 24,
      "outputs": []
    },
    {
      "cell_type": "code",
      "source": [
        "%%time\n",
        "\n",
        "model = SVC(kernel = 'linear' , probability = True, random_state = 42 , decision_function_shape = 'ovr') # linear 커널 사용\n",
        "# model = SVC(kernel = 'linear' ,prob2ability = True, random_state = 42)\n",
        "result = model.fit(ttrain_X, ttrain_y)\n",
        "print(result.score(ttrain_X,ttrain_y))"
      ],
      "metadata": {
        "colab": {
          "base_uri": "https://localhost:8080/"
        },
        "id": "CZ1fTm_rwjvb",
        "outputId": "307c0bb0-f6e9-4744-a876-d89603ea222c"
      },
      "execution_count": 25,
      "outputs": [
        {
          "output_type": "stream",
          "name": "stderr",
          "text": [
            "A column-vector y was passed when a 1d array was expected. Please change the shape of y to (n_samples, ), for example using ravel().\n"
          ]
        },
        {
          "output_type": "stream",
          "name": "stdout",
          "text": [
            "0.9731505292162473\n",
            "CPU times: user 9h 30min 53s, sys: 26.2 s, total: 9h 31min 19s\n",
            "Wall time: 9h 31min 55s\n"
          ]
        }
      ]
    },
    {
      "cell_type": "code",
      "source": [],
      "metadata": {
        "colab": {
          "base_uri": "https://localhost:8080/",
          "height": 184
        },
        "id": "SaKLgz9enR4E",
        "outputId": "f6f19edd-249c-40a0-d822-50e962272539"
      },
      "execution_count": 2,
      "outputs": [
        {
          "output_type": "error",
          "ename": "NameError",
          "evalue": "ignored",
          "traceback": [
            "\u001b[0;31m---------------------------------------------------------------------------\u001b[0m",
            "\u001b[0;31mNameError\u001b[0m                                 Traceback (most recent call last)",
            "\u001b[0;32m<ipython-input-2-0ac921c19f1a>\u001b[0m in \u001b[0;36m<cell line: 1>\u001b[0;34m()\u001b[0m\n\u001b[0;32m----> 1\u001b[0;31m \u001b[0mresult\u001b[0m\u001b[0;34m\u001b[0m\u001b[0;34m\u001b[0m\u001b[0m\n\u001b[0m",
            "\u001b[0;31mNameError\u001b[0m: name 'result' is not defined"
          ]
        }
      ]
    },
    {
      "cell_type": "code",
      "source": [],
      "metadata": {
        "id": "Nwo-fNlqskfu"
      },
      "execution_count": null,
      "outputs": []
    },
    {
      "cell_type": "code",
      "source": [
        "y_pred = result.predict(ttest_X)\n",
        "accuracy = accuracy_score(ttest_y, y_pred)\n",
        "accuracy"
      ],
      "metadata": {
        "id": "ATheONoIwpj2",
        "colab": {
          "base_uri": "https://localhost:8080/"
        },
        "outputId": "7c4c182b-75e6-485c-cc48-cc1e43c371e2"
      },
      "execution_count": 26,
      "outputs": [
        {
          "output_type": "execute_result",
          "data": {
            "text/plain": [
              "0.9336852438128547"
            ]
          },
          "metadata": {},
          "execution_count": 26
        }
      ]
    },
    {
      "cell_type": "code",
      "source": [
        "from sklearn.metrics import confusion_matrix\n",
        "import seaborn as sns\n",
        "import matplotlib.pyplot as plt\n",
        "\n",
        "cf = confusion_matrix(ttest_y, y_pred , labels = [\"benign\", \"phishing\",\"malware\",\"defacement\"])\n",
        "print(cf)\n",
        "\n",
        "# Seaborn을 사용하여 혼동 행렬 시각화\n",
        "plt.figure(figsize=(8, 6))\n",
        "sns.set(font_scale=1.2)  # 폰트 크기 설정\n",
        "\n",
        "# 혼동 행렬 히트맵 생성\n",
        "sns.heatmap(cf, annot=True, fmt=\"d\", cmap=\"Blues\", xticklabels=[\"benign\",\"phishing\",\"malware\",\"defacement\"],\n",
        "            yticklabels=[\"benign\",\"phishing\",\"malware\",\"defacement\"])\n",
        "\n",
        "# 플롯에 제목 추가\n",
        "plt.title(\"Confusion Matrix\")\n",
        "\n",
        "# x축 및 y축 레이블 추가\n",
        "plt.xlabel(\"Predicted\")\n",
        "plt.ylabel(\"Actual\")\n",
        "\n",
        "# 플롯 표시\n",
        "plt.show()"
      ],
      "metadata": {
        "id": "kfwMIpxHwphf",
        "colab": {
          "base_uri": "https://localhost:8080/",
          "height": 651
        },
        "outputId": "306cd3b4-c398-4f36-98df-fe69612b7524"
      },
      "execution_count": 27,
      "outputs": [
        {
          "output_type": "stream",
          "name": "stdout",
          "text": [
            "[[103615    182      2      0]\n",
            " [   732  13568   1027    510]\n",
            " [    63   1039  10511    228]\n",
            " [     0    129     33  15895]]\n"
          ]
        },
        {
          "output_type": "display_data",
          "data": {
            "text/plain": [
              "<Figure size 800x600 with 2 Axes>"
            ],
            "image/png": "[encoded data removed]"
          },
          "metadata": {}
        }
      ]
    },
    {
      "cell_type": "code",
      "source": [
        "test = pd.DataFrame({'url': ['www.naver.com','https://www.naver.com/', 'https://www.youtube.com/watch?v=cJ15o438hww', 'https://cyber.sogang.ac.kr/ilos/main/main_form.acl','https://sogang.ac.kr/index.do','google.com','https://www.hoseo.ac.kr/Home/Main.mbz', 'https://discord.com/','https://learn.hoseo.ac.kr/']})\n",
        "test = feature_extract(test)\n",
        "y_pred=model.predict(test[['url_length', 'hostname_length', 'path_length',\n",
        "       'tld_length', 'count -', 'count @', 'count ?', 'count %', 'count .',\n",
        "       'count =', 'count http', 'count https', 'count www', 'count /',\n",
        "       'count //', 'count-digits', 'count-letters', 'count_dir', 'use_of_ip',\n",
        "       'short_url', 'url_has_file', 'url_has_email', 'len_Domain_ratio',\n",
        "       'len_Path_ratio', 'len_Params_ratio', 'len_Query_ratio',\n",
        "       'len_Fragment_ratio', 'suspicious_word', 'entropy', 'use_https',\n",
        "       'use_http']])\n",
        "y_pred"
      ],
      "metadata": {
        "id": "pezA56wewtdS",
        "colab": {
          "base_uri": "https://localhost:8080/"
        },
        "outputId": "3d56425b-8f2a-4740-d937-863d8d90afaa"
      },
      "execution_count": 28,
      "outputs": [
        {
          "output_type": "stream",
          "name": "stderr",
          "text": [
            "X has feature names, but SVC was fitted without feature names\n"
          ]
        },
        {
          "output_type": "execute_result",
          "data": {
            "text/plain": [
              "array(['benign', 'benign', 'benign', 'benign', 'benign', 'benign',\n",
              "       'benign', 'benign', 'benign'], dtype=object)"
            ]
          },
          "metadata": {},
          "execution_count": 28
        }
      ]
    },
    {
      "cell_type": "code",
      "source": [
        "import shap\n",
        "explainer = shap.TreeExplainer(model)\n",
        "shap_values = explainer.shap_values(X)\n",
        "\n",
        "# 특정 예제에 대한 SHAP 요약 그래프 플로팅\n",
        "shap.summary_plot(shap_values, X)"
      ],
      "metadata": {
        "id": "khV3tEFPwv1l",
        "colab": {
          "base_uri": "https://localhost:8080/",
          "height": 410
        },
        "outputId": "e90858ab-ccdb-486e-c9fb-7141e43d96e2"
      },
      "execution_count": 29,
      "outputs": [
        {
          "output_type": "error",
          "ename": "InvalidModelError",
          "evalue": "ignored",
          "traceback": [
            "\u001b[0;31m---------------------------------------------------------------------------\u001b[0m",
            "\u001b[0;31mInvalidModelError\u001b[0m                         Traceback (most recent call last)",
            "\u001b[0;32m<ipython-input-29-0b912d53a838>\u001b[0m in \u001b[0;36m<cell line: 2>\u001b[0;34m()\u001b[0m\n\u001b[1;32m      1\u001b[0m \u001b[0;32mimport\u001b[0m \u001b[0mshap\u001b[0m\u001b[0;34m\u001b[0m\u001b[0;34m\u001b[0m\u001b[0m\n\u001b[0;32m----> 2\u001b[0;31m \u001b[0mexplainer\u001b[0m \u001b[0;34m=\u001b[0m \u001b[0mshap\u001b[0m\u001b[0;34m.\u001b[0m\u001b[0mTreeExplainer\u001b[0m\u001b[0;34m(\u001b[0m\u001b[0mmodel\u001b[0m\u001b[0;34m)\u001b[0m\u001b[0;34m\u001b[0m\u001b[0;34m\u001b[0m\u001b[0m\n\u001b[0m\u001b[1;32m      3\u001b[0m \u001b[0mshap_values\u001b[0m \u001b[0;34m=\u001b[0m \u001b[0mexplainer\u001b[0m\u001b[0;34m.\u001b[0m\u001b[0mshap_values\u001b[0m\u001b[0;34m(\u001b[0m\u001b[0mX\u001b[0m\u001b[0;34m)\u001b[0m\u001b[0;34m\u001b[0m\u001b[0;34m\u001b[0m\u001b[0m\n\u001b[1;32m      4\u001b[0m \u001b[0;34m\u001b[0m\u001b[0m\n\u001b[1;32m      5\u001b[0m \u001b[0;31m# 특정 예제에 대한 SHAP 요약 그래프 플로팅\u001b[0m\u001b[0;34m\u001b[0m\u001b[0;34m\u001b[0m\u001b[0m\n",
            "\u001b[0;32m/usr/local/lib/python3.10/dist-packages/shap/explainers/_tree.py\u001b[0m in \u001b[0;36m__init__\u001b[0;34m(self, model, data, model_output, feature_perturbation, feature_names, approximate, **deprecated_options)\u001b[0m\n\u001b[1;32m    164\u001b[0m         \u001b[0mself\u001b[0m\u001b[0;34m.\u001b[0m\u001b[0mfeature_perturbation\u001b[0m \u001b[0;34m=\u001b[0m \u001b[0mfeature_perturbation\u001b[0m\u001b[0;34m\u001b[0m\u001b[0;34m\u001b[0m\u001b[0m\n\u001b[1;32m    165\u001b[0m         \u001b[0mself\u001b[0m\u001b[0;34m.\u001b[0m\u001b[0mexpected_value\u001b[0m \u001b[0;34m=\u001b[0m \u001b[0;32mNone\u001b[0m\u001b[0;34m\u001b[0m\u001b[0;34m\u001b[0m\u001b[0m\n\u001b[0;32m--> 166\u001b[0;31m         \u001b[0mself\u001b[0m\u001b[0;34m.\u001b[0m\u001b[0mmodel\u001b[0m \u001b[0;34m=\u001b[0m \u001b[0mTreeEnsemble\u001b[0m\u001b[0;34m(\u001b[0m\u001b[0mmodel\u001b[0m\u001b[0;34m,\u001b[0m \u001b[0mself\u001b[0m\u001b[0;34m.\u001b[0m\u001b[0mdata\u001b[0m\u001b[0;34m,\u001b[0m \u001b[0mself\u001b[0m\u001b[0;34m.\u001b[0m\u001b[0mdata_missing\u001b[0m\u001b[0;34m,\u001b[0m \u001b[0mmodel_output\u001b[0m\u001b[0;34m)\u001b[0m\u001b[0;34m\u001b[0m\u001b[0;34m\u001b[0m\u001b[0m\n\u001b[0m\u001b[1;32m    167\u001b[0m         \u001b[0mself\u001b[0m\u001b[0;34m.\u001b[0m\u001b[0mmodel_output\u001b[0m \u001b[0;34m=\u001b[0m \u001b[0mmodel_output\u001b[0m\u001b[0;34m\u001b[0m\u001b[0;34m\u001b[0m\u001b[0m\n\u001b[1;32m    168\u001b[0m         \u001b[0;31m#self.model_output = self.model.model_output # this allows the TreeEnsemble to translate model outputs types by how it loads the model\u001b[0m\u001b[0;34m\u001b[0m\u001b[0;34m\u001b[0m\u001b[0m\n",
            "\u001b[0;32m/usr/local/lib/python3.10/dist-packages/shap/explainers/_tree.py\u001b[0m in \u001b[0;36m__init__\u001b[0;34m(self, model, data, data_missing, model_output)\u001b[0m\n\u001b[1;32m   1131\u001b[0m             \u001b[0mself\u001b[0m\u001b[0;34m.\u001b[0m\u001b[0mbase_offset\u001b[0m \u001b[0;34m=\u001b[0m \u001b[0mmodel\u001b[0m\u001b[0;34m.\u001b[0m\u001b[0minit_params\u001b[0m\u001b[0;34m[\u001b[0m\u001b[0mparam_idx\u001b[0m\u001b[0;34m]\u001b[0m\u001b[0;34m\u001b[0m\u001b[0;34m\u001b[0m\u001b[0m\n\u001b[1;32m   1132\u001b[0m         \u001b[0;32melse\u001b[0m\u001b[0;34m:\u001b[0m\u001b[0;34m\u001b[0m\u001b[0;34m\u001b[0m\u001b[0m\n\u001b[0;32m-> 1133\u001b[0;31m             \u001b[0;32mraise\u001b[0m \u001b[0mInvalidModelError\u001b[0m\u001b[0;34m(\u001b[0m\u001b[0;34m\"Model type not yet supported by TreeExplainer: \"\u001b[0m \u001b[0;34m+\u001b[0m \u001b[0mstr\u001b[0m\u001b[0;34m(\u001b[0m\u001b[0mtype\u001b[0m\u001b[0;34m(\u001b[0m\u001b[0mmodel\u001b[0m\u001b[0;34m)\u001b[0m\u001b[0;34m)\u001b[0m\u001b[0;34m)\u001b[0m\u001b[0;34m\u001b[0m\u001b[0;34m\u001b[0m\u001b[0m\n\u001b[0m\u001b[1;32m   1134\u001b[0m \u001b[0;34m\u001b[0m\u001b[0m\n\u001b[1;32m   1135\u001b[0m         \u001b[0;31m# build a dense numpy version of all the tree objects\u001b[0m\u001b[0;34m\u001b[0m\u001b[0;34m\u001b[0m\u001b[0m\n",
            "\u001b[0;31mInvalidModelError\u001b[0m: Model type not yet supported by TreeExplainer: <class 'sklearn.svm._classes.SVC'>"
          ]
        }
      ]
    },
    {
      "cell_type": "code",
      "source": [],
      "metadata": {
        "id": "UYrqYgNSb_ub"
      },
      "execution_count": null,
      "outputs": []
    }
  ],
  "metadata": {
    "colab": {
      "provenance": [],
      "gpuType": "T4"
    },
    "kernelspec": {
      "display_name": "Python 3",
      "name": "python3"
    },
    "language_info": {
      "name": "python"
    },
    "accelerator": "GPU"
  },
  "nbformat": 4,
  "nbformat_minor": 0
}